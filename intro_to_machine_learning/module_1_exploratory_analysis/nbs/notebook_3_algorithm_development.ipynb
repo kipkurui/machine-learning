{
 "cells": [
  {
   "cell_type": "markdown",
   "metadata": {},
   "source": [
    "# Lab 3: Model Development and Evaluation"
   ]
  },
  {
   "cell_type": "markdown",
   "metadata": {},
   "source": [
    "In this notebook, we are going to be focusing on building models.\n",
    "\n",
    "We will compare the performance of a linear regression model, decision tree model and random forest.\n",
    "\n",
    "Let's get started!"
   ]
  },
  {
   "cell_type": "markdown",
   "metadata": {},
   "source": [
    "## **If you haven't already, please run through Notebook 1 & 2!**  You need the final ouput df_abridged.csv.\n",
    "\n",
    "As a reminder, we had 3 raw data files (loans_full, loans_detail, and loans_partner_details). In Notebook 1 module_1_exploratory_analysis_with_solutions, we merged these data files and created new variables to form the data frame \"df_module_1\", we exported it as df_module_1.csv. Then in module 2, we engineered several features and removed outliers and exported this to df_module_2_w_outliers.csv. We will use this dataframe now. \n"
   ]
  },
  {
   "cell_type": "markdown",
   "metadata": {},
   "source": [
    "First step is to import the libraries we want to use. Notice there is a new one below - sklearn.ensemble.\n",
    "\n",
    "Sklearn is a suite of libraries that contain a range of machine learning tools. Today we are using various different sklearn packages. For more information on sklearn, check out their [diagram](http://scikit-learn.org/stable/tutorial/machine_learning_map/) for when and where to use difference machine learning methods."
   ]
  },
  {
   "cell_type": "code",
   "execution_count": 64,
   "metadata": {},
   "outputs": [
    {
     "name": "stderr",
     "output_type": "stream",
     "text": [
      "C:\\Users\\g13k8050\\Anaconda2\\envs\\moringa\\lib\\site-packages\\sklearn\\cross_validation.py:44: DeprecationWarning: This module was deprecated in version 0.18 in favor of the model_selection module into which all the refactored classes and functions are moved. Also note that the interface of the new CV iterators are different from that of this module. This module will be removed in 0.20.\n",
      "  \"This module will be removed in 0.20.\", DeprecationWarning)\n"
     ]
    }
   ],
   "source": [
    "import xgboost as xgb"
   ]
  },
  {
   "cell_type": "code",
   "execution_count": 3,
   "metadata": {},
   "outputs": [],
   "source": [
    "import pandas as pd\n",
    "import matplotlib.pyplot as plt\n",
    "import matplotlib.cm as cm\n",
    "import numpy as np\n",
    "from ggplot import *\n",
    "import time\n",
    "import re\n",
    "plt.style.use('ggplot')\n",
    "%matplotlib inline\n",
    "\n",
    "# packages for checking assumptions\n",
    "from scipy import stats as stats\n",
    "\n",
    "# packages for linear regression and validation \n",
    "import statsmodels.formula.api as sm\n",
    "from sklearn import linear_model\n",
    "from sklearn.model_selection import train_test_split\n",
    "from sklearn.metrics import explained_variance_score\n",
    "from sklearn.metrics import mean_absolute_error\n",
    "from sklearn.metrics import mean_squared_error\n",
    "from sklearn import preprocessing\n",
    "from sklearn.preprocessing import OneHotEncoder\n",
    "from sklearn.ensemble import RandomForestRegressor, RandomForestClassifier\n",
    "from sklearn.model_selection import train_test_split\n",
    "from sklearn.metrics import mean_squared_error\n",
    "\n",
    "# the command below means that the output of multiple commands in a cell will be output at once.\n",
    "\n",
    "from IPython.core.interactiveshell import InteractiveShell\n",
    "InteractiveShell.ast_node_interactivity = \"all\"\n",
    "\n",
    "# the command below tells jupyter to display up to 80 columns, this keeps everything visible\n",
    "pd.set_option('display.max_columns', 80)\n",
    "pd.set_option('expand_frame_repr', True)\n"
   ]
  },
  {
   "cell_type": "markdown",
   "metadata": {},
   "source": [
    "To get more information about a new modules you have imported, run the cell below. A window containing a description of the module will appear! This provides details on the module parameters and attributes and links for further references. Try it out!"
   ]
  },
  {
   "cell_type": "code",
   "execution_count": 4,
   "metadata": {
    "collapsed": true
   },
   "outputs": [],
   "source": [
    "RandomForestRegressor?"
   ]
  },
  {
   "cell_type": "markdown",
   "metadata": {},
   "source": [
    "You can also visit their page on [RandomForestReggresors](http://scikit-learn.org/stable/modules/generated/sklearn.ensemble.RandomForestRegressor.html), or visit their helpful [User Guide](http://scikit-learn.org/stable/modules/ensemble.html#forest) for Ensemble Approaches."
   ]
  },
  {
   "cell_type": "markdown",
   "metadata": {},
   "source": [
    "Next we import the entire dataset and the kiva data dictionary"
   ]
  },
  {
   "cell_type": "code",
   "execution_count": 7,
   "metadata": {
    "collapsed": true
   },
   "outputs": [],
   "source": [
    "# Read in data\n",
    "data_path = '../../data/'\n",
    "df = pd.read_csv(data_path+'df_abridged.csv', low_memory=False, encoding = \"ISO-8859-1\")"
   ]
  },
  {
   "cell_type": "code",
   "execution_count": 8,
   "metadata": {},
   "outputs": [],
   "source": [
    "# in linux\n",
    "#df = pd.read_csv(data_path+'df_abridged.csv', low_memory=False)"
   ]
  },
  {
   "cell_type": "markdown",
   "metadata": {},
   "source": [
    "## Checking Assumptions for our linear regression model"
   ]
  },
  {
   "cell_type": "markdown",
   "metadata": {},
   "source": [
    "### Normality\n",
    "In Module 3, we reviewed that normal distribution of variables is an assumption underlying linear regression. Let's look first at our dependent variable, loan_amounts."
   ]
  },
  {
   "cell_type": "markdown",
   "metadata": {},
   "source": [
    "We already know our data is skewed by outliers, however before we begin modeling let's quantify the degree to which it is skewed.\n",
    "\n",
    "[Scipy's stats package](https://docs.scipy.org/doc/scipy-0.19.0/reference/generated/scipy.stats.skew.html) allows you to conduct a skew test. A normally distributed dataset would return about 0. A skewness value of greater than 0 means there are more loans in the left tail of the distribution. Typically, a skew score of +-5 is deemed acceptable."
   ]
  },
  {
   "cell_type": "code",
   "execution_count": 9,
   "metadata": {},
   "outputs": [
    {
     "data": {
      "image/png": "[encoded data removed]",
      "text/plain": [
       "<matplotlib.figure.Figure at 0x4911c68908>"
      ]
     },
     "metadata": {},
     "output_type": "display_data"
    },
    {
     "data": {
      "text/plain": [
       "<ggplot: (19614427256)>"
      ]
     },
     "execution_count": 9,
     "metadata": {},
     "output_type": "execute_result"
    }
   ],
   "source": [
    "ggplot(df[(df['borrower_count'] == 1)], aes(x='loan_amount')) + geom_density() + xlim(0,10000)"
   ]
  },
  {
   "cell_type": "code",
   "execution_count": 12,
   "metadata": {},
   "outputs": [
    {
     "name": "stdout",
     "output_type": "stream",
     "text": [
      "3.5717306366517163\n"
     ]
    }
   ],
   "source": [
    "print(stats.skew(df[(df['borrower_count'] == 1)].loan_amount, axis=None))"
   ]
  },
  {
   "cell_type": "code",
   "execution_count": 13,
   "metadata": {},
   "outputs": [
    {
     "data": {
      "text/html": [
       "<div>\n",
       "<style>\n",
       "    .dataframe thead tr:only-child th {\n",
       "        text-align: right;\n",
       "    }\n",
       "\n",
       "    .dataframe thead th {\n",
       "        text-align: left;\n",
       "    }\n",
       "\n",
       "    .dataframe tbody tr th {\n",
       "        vertical-align: top;\n",
       "    }\n",
       "</style>\n",
       "<table border=\"1\" class=\"dataframe\">\n",
       "  <thead>\n",
       "    <tr style=\"text-align: right;\">\n",
       "      <th></th>\n",
       "      <th>Unnamed: 0</th>\n",
       "      <th>Unnamed: 0.1</th>\n",
       "      <th>Unnamed: 0.1.1</th>\n",
       "      <th>Unnamed: 0.1.1</th>\n",
       "      <th>Unnamed: 0.1.1.1</th>\n",
       "      <th>activity</th>\n",
       "      <th>description.texts.en</th>\n",
       "      <th>funded_amount</th>\n",
       "      <th>funded_date</th>\n",
       "      <th>id</th>\n",
       "      <th>lender_count</th>\n",
       "      <th>loan_amount</th>\n",
       "      <th>location.town</th>\n",
       "      <th>partner_id</th>\n",
       "      <th>planned_expiration_date</th>\n",
       "      <th>posted_date</th>\n",
       "      <th>sector</th>\n",
       "      <th>status</th>\n",
       "      <th>tags</th>\n",
       "      <th>terms.disbursal_amount</th>\n",
       "      <th>terms.disbursal_currency</th>\n",
       "      <th>terms.disbursal_date</th>\n",
       "      <th>terms.loan_amount</th>\n",
       "      <th>terms.loss_liability.nonpayment</th>\n",
       "      <th>terms.repayment_term</th>\n",
       "      <th>video.id</th>\n",
       "      <th>video.thumbnailImageId</th>\n",
       "      <th>video.title</th>\n",
       "      <th>video.youtubeId</th>\n",
       "      <th>borrower_count</th>\n",
       "      <th>partner_average_loan_size_percent_per_capita_income</th>\n",
       "      <th>partner_charges_fees_and_interest</th>\n",
       "      <th>partner_countries</th>\n",
       "      <th>partner_currency_exchange_loss_rate</th>\n",
       "      <th>partner_default_rate</th>\n",
       "      <th>partner_delinquency_rate</th>\n",
       "      <th>partner_delinquency_rate_note</th>\n",
       "      <th>partner_image.template_id</th>\n",
       "      <th>partner_loans_at_risk_rate</th>\n",
       "      <th>partner_loans_posted</th>\n",
       "      <th>...</th>\n",
       "      <th>dispursal_datetime</th>\n",
       "      <th>number_of_loans</th>\n",
       "      <th>dispersal_date</th>\n",
       "      <th>posted_year</th>\n",
       "      <th>posted_month</th>\n",
       "      <th>gender</th>\n",
       "      <th>widowed</th>\n",
       "      <th>kids</th>\n",
       "      <th>elderly</th>\n",
       "      <th>num_tags</th>\n",
       "      <th>married</th>\n",
       "      <th>age</th>\n",
       "      <th>age_int</th>\n",
       "      <th>children_int</th>\n",
       "      <th>age_bucket</th>\n",
       "      <th>location</th>\n",
       "      <th>location_detail</th>\n",
       "      <th>location_str</th>\n",
       "      <th>county</th>\n",
       "      <th>province</th>\n",
       "      <th>province_capital</th>\n",
       "      <th>video</th>\n",
       "      <th>motor</th>\n",
       "      <th>solar</th>\n",
       "      <th>eco_friendly</th>\n",
       "      <th>animals</th>\n",
       "      <th>technology</th>\n",
       "      <th>num_posted</th>\n",
       "      <th>num_expired</th>\n",
       "      <th>mean_loan</th>\n",
       "      <th>mean_expired_loan</th>\n",
       "      <th>time_to_fund</th>\n",
       "      <th>days_to_fund</th>\n",
       "      <th>time_to_expire_datetime</th>\n",
       "      <th>days_to_expire</th>\n",
       "      <th>time_to_dispersal</th>\n",
       "      <th>days_to_dispersal</th>\n",
       "      <th>posted_date_unix</th>\n",
       "      <th>top_partner_id</th>\n",
       "      <th>top_partner</th>\n",
       "    </tr>\n",
       "  </thead>\n",
       "  <tbody>\n",
       "    <tr>\n",
       "      <th>0</th>\n",
       "      <td>0</td>\n",
       "      <td>16</td>\n",
       "      <td>16</td>\n",
       "      <td>16</td>\n",
       "      <td>16</td>\n",
       "      <td>Primary/secondary school costs</td>\n",
       "      <td>Sally is an ambitious woman from Bomet, a maiz...</td>\n",
       "      <td>150</td>\n",
       "      <td>2017-05-09</td>\n",
       "      <td>1291449</td>\n",
       "      <td>6</td>\n",
       "      <td>150</td>\n",
       "      <td>Bomet</td>\n",
       "      <td>156.0</td>\n",
       "      <td>2017-06-07</td>\n",
       "      <td>2017-05-08</td>\n",
       "      <td>Education</td>\n",
       "      <td>funded</td>\n",
       "      <td>[{'name': '#Parent'}, {'name': '#Schooling'}]</td>\n",
       "      <td>15000.0</td>\n",
       "      <td>KES</td>\n",
       "      <td>2017-05-28T07:00:00Z</td>\n",
       "      <td>150</td>\n",
       "      <td>lender</td>\n",
       "      <td>13</td>\n",
       "      <td>NaN</td>\n",
       "      <td>NaN</td>\n",
       "      <td>NaN</td>\n",
       "      <td>NaN</td>\n",
       "      <td>1</td>\n",
       "      <td>49.6</td>\n",
       "      <td>True</td>\n",
       "      <td>[{'iso_code': 'KE', 'region': 'Africa', 'name'...</td>\n",
       "      <td>0.431935</td>\n",
       "      <td>2.575299</td>\n",
       "      <td>2.536684</td>\n",
       "      <td>NaN</td>\n",
       "      <td>1.0</td>\n",
       "      <td>24.200354</td>\n",
       "      <td>18150.0</td>\n",
       "      <td>...</td>\n",
       "      <td>2017-05-28 07:00:00</td>\n",
       "      <td>1</td>\n",
       "      <td>2017-05-28</td>\n",
       "      <td>2017</td>\n",
       "      <td>5</td>\n",
       "      <td>Female</td>\n",
       "      <td>0</td>\n",
       "      <td>1</td>\n",
       "      <td>0</td>\n",
       "      <td>1</td>\n",
       "      <td>0</td>\n",
       "      <td>NaN</td>\n",
       "      <td>29.558037</td>\n",
       "      <td>0.0</td>\n",
       "      <td>NaN</td>\n",
       "      <td>bomet kenya</td>\n",
       "      <td>Bomet, Kenya</td>\n",
       "      <td>bomet,</td>\n",
       "      <td>bomet</td>\n",
       "      <td>rift valley</td>\n",
       "      <td>bomet</td>\n",
       "      <td>False</td>\n",
       "      <td>0</td>\n",
       "      <td>0</td>\n",
       "      <td>0</td>\n",
       "      <td>0</td>\n",
       "      <td>0</td>\n",
       "      <td>663</td>\n",
       "      <td>NaN</td>\n",
       "      <td>408.6727</td>\n",
       "      <td>NaN</td>\n",
       "      <td>0 days 02:07:40.000000000</td>\n",
       "      <td>0.0</td>\n",
       "      <td>30 days 00:00:00.000000000</td>\n",
       "      <td>30.0</td>\n",
       "      <td>19 days 08:29:54.000000000</td>\n",
       "      <td>19</td>\n",
       "      <td>1.494191e+09</td>\n",
       "      <td>156.0</td>\n",
       "      <td>Juhudi Kilimo</td>\n",
       "    </tr>\n",
       "    <tr>\n",
       "      <th>1</th>\n",
       "      <td>1</td>\n",
       "      <td>21</td>\n",
       "      <td>21</td>\n",
       "      <td>21</td>\n",
       "      <td>21</td>\n",
       "      <td>Celebrations</td>\n",
       "      <td>Naomi is a single mother of 2 children and she...</td>\n",
       "      <td>100</td>\n",
       "      <td>2017-05-08</td>\n",
       "      <td>1291404</td>\n",
       "      <td>4</td>\n",
       "      <td>100</td>\n",
       "      <td>nyeri</td>\n",
       "      <td>386.0</td>\n",
       "      <td>2017-06-07</td>\n",
       "      <td>2017-05-08</td>\n",
       "      <td>Personal Use</td>\n",
       "      <td>funded</td>\n",
       "      <td>[{'name': '#Animals'}, {'name': '#Parent'}, {'...</td>\n",
       "      <td>10000.0</td>\n",
       "      <td>KES</td>\n",
       "      <td>2017-04-03T07:00:00Z</td>\n",
       "      <td>100</td>\n",
       "      <td>lender</td>\n",
       "      <td>5</td>\n",
       "      <td>NaN</td>\n",
       "      <td>NaN</td>\n",
       "      <td>NaN</td>\n",
       "      <td>NaN</td>\n",
       "      <td>1</td>\n",
       "      <td>0.0</td>\n",
       "      <td>True</td>\n",
       "      <td>[{'iso_code': 'KE', 'region': 'Africa', 'name'...</td>\n",
       "      <td>0.120642</td>\n",
       "      <td>0.000000</td>\n",
       "      <td>7.017031</td>\n",
       "      <td>NaN</td>\n",
       "      <td>1.0</td>\n",
       "      <td>21.165398</td>\n",
       "      <td>1948.0</td>\n",
       "      <td>...</td>\n",
       "      <td>2017-04-03 07:00:00</td>\n",
       "      <td>1</td>\n",
       "      <td>2017-04-03</td>\n",
       "      <td>2017</td>\n",
       "      <td>5</td>\n",
       "      <td>Female</td>\n",
       "      <td>0</td>\n",
       "      <td>1</td>\n",
       "      <td>0</td>\n",
       "      <td>2</td>\n",
       "      <td>0</td>\n",
       "      <td>NaN</td>\n",
       "      <td>29.558037</td>\n",
       "      <td>2.0</td>\n",
       "      <td>NaN</td>\n",
       "      <td>nyeri kenya</td>\n",
       "      <td>Nyeri, Kenya</td>\n",
       "      <td>nyeri,</td>\n",
       "      <td>nyeri</td>\n",
       "      <td>central</td>\n",
       "      <td>nyeri</td>\n",
       "      <td>False</td>\n",
       "      <td>0</td>\n",
       "      <td>0</td>\n",
       "      <td>0</td>\n",
       "      <td>1</td>\n",
       "      <td>0</td>\n",
       "      <td>663</td>\n",
       "      <td>NaN</td>\n",
       "      <td>408.6727</td>\n",
       "      <td>NaN</td>\n",
       "      <td>0 days 00:51:40.000000000</td>\n",
       "      <td>0.0</td>\n",
       "      <td>30 days 00:00:00.000000000</td>\n",
       "      <td>30.0</td>\n",
       "      <td>-36 days +08:49:55.000000000</td>\n",
       "      <td>-36</td>\n",
       "      <td>1.494191e+09</td>\n",
       "      <td>1.0</td>\n",
       "      <td>other</td>\n",
       "    </tr>\n",
       "    <tr>\n",
       "      <th>2</th>\n",
       "      <td>2</td>\n",
       "      <td>26</td>\n",
       "      <td>26</td>\n",
       "      <td>26</td>\n",
       "      <td>26</td>\n",
       "      <td>Primary/secondary school costs</td>\n",
       "      <td>Sally is an ambitious woman from a lush, maize...</td>\n",
       "      <td>150</td>\n",
       "      <td>2017-05-08</td>\n",
       "      <td>1291369</td>\n",
       "      <td>6</td>\n",
       "      <td>150</td>\n",
       "      <td>litein</td>\n",
       "      <td>156.0</td>\n",
       "      <td>2017-06-07</td>\n",
       "      <td>2017-05-08</td>\n",
       "      <td>Education</td>\n",
       "      <td>funded</td>\n",
       "      <td>[{'name': '#Parent'}, {'name': '#Schooling'}]</td>\n",
       "      <td>15000.0</td>\n",
       "      <td>KES</td>\n",
       "      <td>2017-04-28T07:00:00Z</td>\n",
       "      <td>150</td>\n",
       "      <td>lender</td>\n",
       "      <td>14</td>\n",
       "      <td>NaN</td>\n",
       "      <td>NaN</td>\n",
       "      <td>NaN</td>\n",
       "      <td>NaN</td>\n",
       "      <td>1</td>\n",
       "      <td>49.6</td>\n",
       "      <td>True</td>\n",
       "      <td>[{'iso_code': 'KE', 'region': 'Africa', 'name'...</td>\n",
       "      <td>0.431935</td>\n",
       "      <td>2.575299</td>\n",
       "      <td>2.536684</td>\n",
       "      <td>NaN</td>\n",
       "      <td>1.0</td>\n",
       "      <td>24.200354</td>\n",
       "      <td>18150.0</td>\n",
       "      <td>...</td>\n",
       "      <td>2017-04-28 07:00:00</td>\n",
       "      <td>1</td>\n",
       "      <td>2017-04-28</td>\n",
       "      <td>2017</td>\n",
       "      <td>5</td>\n",
       "      <td>Female</td>\n",
       "      <td>0</td>\n",
       "      <td>1</td>\n",
       "      <td>0</td>\n",
       "      <td>1</td>\n",
       "      <td>0</td>\n",
       "      <td>NaN</td>\n",
       "      <td>29.558037</td>\n",
       "      <td>0.0</td>\n",
       "      <td>NaN</td>\n",
       "      <td>litein kenya</td>\n",
       "      <td>Litein, Kericho, Kenya</td>\n",
       "      <td>litein, kericho,</td>\n",
       "      <td>kericho</td>\n",
       "      <td>rift valley</td>\n",
       "      <td>kericho</td>\n",
       "      <td>False</td>\n",
       "      <td>0</td>\n",
       "      <td>0</td>\n",
       "      <td>0</td>\n",
       "      <td>0</td>\n",
       "      <td>0</td>\n",
       "      <td>663</td>\n",
       "      <td>NaN</td>\n",
       "      <td>408.6727</td>\n",
       "      <td>NaN</td>\n",
       "      <td>0 days 01:08:28.000000000</td>\n",
       "      <td>0.0</td>\n",
       "      <td>30 days 00:00:00.000000000</td>\n",
       "      <td>30.0</td>\n",
       "      <td>-11 days +09:59:54.000000000</td>\n",
       "      <td>-11</td>\n",
       "      <td>1.494191e+09</td>\n",
       "      <td>156.0</td>\n",
       "      <td>Juhudi Kilimo</td>\n",
       "    </tr>\n",
       "    <tr>\n",
       "      <th>3</th>\n",
       "      <td>3</td>\n",
       "      <td>47</td>\n",
       "      <td>47</td>\n",
       "      <td>47</td>\n",
       "      <td>47</td>\n",
       "      <td>Home Energy</td>\n",
       "      <td>Hello Kiva Community! &lt;br /&gt;&lt;br /&gt;Meet Margare...</td>\n",
       "      <td>150</td>\n",
       "      <td>2017-05-08</td>\n",
       "      <td>1291075</td>\n",
       "      <td>2</td>\n",
       "      <td>150</td>\n",
       "      <td>Limuru</td>\n",
       "      <td>156.0</td>\n",
       "      <td>2017-06-07</td>\n",
       "      <td>2017-05-08</td>\n",
       "      <td>Personal Use</td>\n",
       "      <td>funded</td>\n",
       "      <td>[{'name': '#Eco-friendly'}, {'name': '#Technol...</td>\n",
       "      <td>12990.0</td>\n",
       "      <td>KES</td>\n",
       "      <td>2017-04-28T07:00:00Z</td>\n",
       "      <td>150</td>\n",
       "      <td>lender</td>\n",
       "      <td>8</td>\n",
       "      <td>NaN</td>\n",
       "      <td>NaN</td>\n",
       "      <td>NaN</td>\n",
       "      <td>NaN</td>\n",
       "      <td>1</td>\n",
       "      <td>49.6</td>\n",
       "      <td>True</td>\n",
       "      <td>[{'iso_code': 'KE', 'region': 'Africa', 'name'...</td>\n",
       "      <td>0.431935</td>\n",
       "      <td>2.575299</td>\n",
       "      <td>2.536684</td>\n",
       "      <td>NaN</td>\n",
       "      <td>1.0</td>\n",
       "      <td>24.200354</td>\n",
       "      <td>18150.0</td>\n",
       "      <td>...</td>\n",
       "      <td>2017-04-28 07:00:00</td>\n",
       "      <td>1</td>\n",
       "      <td>2017-04-28</td>\n",
       "      <td>2017</td>\n",
       "      <td>5</td>\n",
       "      <td>Female</td>\n",
       "      <td>0</td>\n",
       "      <td>1</td>\n",
       "      <td>0</td>\n",
       "      <td>1</td>\n",
       "      <td>1</td>\n",
       "      <td>NaN</td>\n",
       "      <td>29.558037</td>\n",
       "      <td>0.0</td>\n",
       "      <td>NaN</td>\n",
       "      <td>limuru kenya</td>\n",
       "      <td>Limuru, Kiambu, Kenya</td>\n",
       "      <td>limuru, kiambu,</td>\n",
       "      <td>kiambu</td>\n",
       "      <td>central</td>\n",
       "      <td>kiambu</td>\n",
       "      <td>False</td>\n",
       "      <td>0</td>\n",
       "      <td>0</td>\n",
       "      <td>1</td>\n",
       "      <td>0</td>\n",
       "      <td>1</td>\n",
       "      <td>663</td>\n",
       "      <td>NaN</td>\n",
       "      <td>408.6727</td>\n",
       "      <td>NaN</td>\n",
       "      <td>0 days 03:19:07.000000000</td>\n",
       "      <td>0.0</td>\n",
       "      <td>30 days 00:00:00.000000000</td>\n",
       "      <td>30.0</td>\n",
       "      <td>-11 days +17:19:53.000000000</td>\n",
       "      <td>-11</td>\n",
       "      <td>1.494191e+09</td>\n",
       "      <td>156.0</td>\n",
       "      <td>Juhudi Kilimo</td>\n",
       "    </tr>\n",
       "    <tr>\n",
       "      <th>4</th>\n",
       "      <td>4</td>\n",
       "      <td>48</td>\n",
       "      <td>48</td>\n",
       "      <td>48</td>\n",
       "      <td>48</td>\n",
       "      <td>Home Energy</td>\n",
       "      <td>Hello Kiva Community! &lt;br /&gt;&lt;br /&gt;Meet Mary, w...</td>\n",
       "      <td>75</td>\n",
       "      <td>2017-05-08</td>\n",
       "      <td>1291078</td>\n",
       "      <td>3</td>\n",
       "      <td>75</td>\n",
       "      <td>Kenyenya</td>\n",
       "      <td>156.0</td>\n",
       "      <td>2017-06-07</td>\n",
       "      <td>2017-05-08</td>\n",
       "      <td>Personal Use</td>\n",
       "      <td>funded</td>\n",
       "      <td>[{'name': '#Eco-friendly'}, {'name': '#Technol...</td>\n",
       "      <td>6000.0</td>\n",
       "      <td>KES</td>\n",
       "      <td>2017-04-28T07:00:00Z</td>\n",
       "      <td>75</td>\n",
       "      <td>lender</td>\n",
       "      <td>8</td>\n",
       "      <td>NaN</td>\n",
       "      <td>NaN</td>\n",
       "      <td>NaN</td>\n",
       "      <td>NaN</td>\n",
       "      <td>1</td>\n",
       "      <td>49.6</td>\n",
       "      <td>True</td>\n",
       "      <td>[{'iso_code': 'KE', 'region': 'Africa', 'name'...</td>\n",
       "      <td>0.431935</td>\n",
       "      <td>2.575299</td>\n",
       "      <td>2.536684</td>\n",
       "      <td>NaN</td>\n",
       "      <td>1.0</td>\n",
       "      <td>24.200354</td>\n",
       "      <td>18150.0</td>\n",
       "      <td>...</td>\n",
       "      <td>2017-04-28 07:00:00</td>\n",
       "      <td>1</td>\n",
       "      <td>2017-04-28</td>\n",
       "      <td>2017</td>\n",
       "      <td>5</td>\n",
       "      <td>Female</td>\n",
       "      <td>0</td>\n",
       "      <td>1</td>\n",
       "      <td>0</td>\n",
       "      <td>1</td>\n",
       "      <td>1</td>\n",
       "      <td>NaN</td>\n",
       "      <td>29.558037</td>\n",
       "      <td>0.0</td>\n",
       "      <td>NaN</td>\n",
       "      <td>kenyenya kenya</td>\n",
       "      <td>Kenyenya, Kisii, Kenya</td>\n",
       "      <td>kenyenya, kisii,</td>\n",
       "      <td>kisii</td>\n",
       "      <td>nyanza</td>\n",
       "      <td>kisii</td>\n",
       "      <td>False</td>\n",
       "      <td>0</td>\n",
       "      <td>0</td>\n",
       "      <td>1</td>\n",
       "      <td>0</td>\n",
       "      <td>1</td>\n",
       "      <td>663</td>\n",
       "      <td>NaN</td>\n",
       "      <td>408.6727</td>\n",
       "      <td>NaN</td>\n",
       "      <td>0 days 00:56:09.000000000</td>\n",
       "      <td>0.0</td>\n",
       "      <td>30 days 00:00:00.000000000</td>\n",
       "      <td>30.0</td>\n",
       "      <td>-11 days +17:19:53.000000000</td>\n",
       "      <td>-11</td>\n",
       "      <td>1.494191e+09</td>\n",
       "      <td>156.0</td>\n",
       "      <td>Juhudi Kilimo</td>\n",
       "    </tr>\n",
       "  </tbody>\n",
       "</table>\n",
       "<p>5 rows × 92 columns</p>\n",
       "</div>"
      ],
      "text/plain": [
       "   Unnamed: 0  Unnamed: 0.1  Unnamed: 0.1.1  Unnamed: 0.1.1  Unnamed: 0.1.1.1  \\\n",
       "0           0            16              16              16                16   \n",
       "1           1            21              21              21                21   \n",
       "2           2            26              26              26                26   \n",
       "3           3            47              47              47                47   \n",
       "4           4            48              48              48                48   \n",
       "\n",
       "                         activity  \\\n",
       "0  Primary/secondary school costs   \n",
       "1                    Celebrations   \n",
       "2  Primary/secondary school costs   \n",
       "3                     Home Energy   \n",
       "4                     Home Energy   \n",
       "\n",
       "                                description.texts.en  funded_amount  \\\n",
       "0  Sally is an ambitious woman from Bomet, a maiz...            150   \n",
       "1  Naomi is a single mother of 2 children and she...            100   \n",
       "2  Sally is an ambitious woman from a lush, maize...            150   \n",
       "3  Hello Kiva Community! <br /><br />Meet Margare...            150   \n",
       "4  Hello Kiva Community! <br /><br />Meet Mary, w...             75   \n",
       "\n",
       "  funded_date       id  lender_count  loan_amount location.town  partner_id  \\\n",
       "0  2017-05-09  1291449             6          150         Bomet       156.0   \n",
       "1  2017-05-08  1291404             4          100         nyeri       386.0   \n",
       "2  2017-05-08  1291369             6          150        litein       156.0   \n",
       "3  2017-05-08  1291075             2          150        Limuru       156.0   \n",
       "4  2017-05-08  1291078             3           75      Kenyenya       156.0   \n",
       "\n",
       "  planned_expiration_date posted_date        sector  status  \\\n",
       "0              2017-06-07  2017-05-08     Education  funded   \n",
       "1              2017-06-07  2017-05-08  Personal Use  funded   \n",
       "2              2017-06-07  2017-05-08     Education  funded   \n",
       "3              2017-06-07  2017-05-08  Personal Use  funded   \n",
       "4              2017-06-07  2017-05-08  Personal Use  funded   \n",
       "\n",
       "                                                tags  terms.disbursal_amount  \\\n",
       "0      [{'name': '#Parent'}, {'name': '#Schooling'}]                 15000.0   \n",
       "1  [{'name': '#Animals'}, {'name': '#Parent'}, {'...                 10000.0   \n",
       "2      [{'name': '#Parent'}, {'name': '#Schooling'}]                 15000.0   \n",
       "3  [{'name': '#Eco-friendly'}, {'name': '#Technol...                 12990.0   \n",
       "4  [{'name': '#Eco-friendly'}, {'name': '#Technol...                  6000.0   \n",
       "\n",
       "  terms.disbursal_currency  terms.disbursal_date  terms.loan_amount  \\\n",
       "0                      KES  2017-05-28T07:00:00Z                150   \n",
       "1                      KES  2017-04-03T07:00:00Z                100   \n",
       "2                      KES  2017-04-28T07:00:00Z                150   \n",
       "3                      KES  2017-04-28T07:00:00Z                150   \n",
       "4                      KES  2017-04-28T07:00:00Z                 75   \n",
       "\n",
       "  terms.loss_liability.nonpayment  terms.repayment_term  video.id  \\\n",
       "0                          lender                    13       NaN   \n",
       "1                          lender                     5       NaN   \n",
       "2                          lender                    14       NaN   \n",
       "3                          lender                     8       NaN   \n",
       "4                          lender                     8       NaN   \n",
       "\n",
       "   video.thumbnailImageId video.title video.youtubeId  borrower_count  \\\n",
       "0                     NaN         NaN             NaN               1   \n",
       "1                     NaN         NaN             NaN               1   \n",
       "2                     NaN         NaN             NaN               1   \n",
       "3                     NaN         NaN             NaN               1   \n",
       "4                     NaN         NaN             NaN               1   \n",
       "\n",
       "   partner_average_loan_size_percent_per_capita_income  \\\n",
       "0                                               49.6     \n",
       "1                                                0.0     \n",
       "2                                               49.6     \n",
       "3                                               49.6     \n",
       "4                                               49.6     \n",
       "\n",
       "   partner_charges_fees_and_interest  \\\n",
       "0                               True   \n",
       "1                               True   \n",
       "2                               True   \n",
       "3                               True   \n",
       "4                               True   \n",
       "\n",
       "                                   partner_countries  \\\n",
       "0  [{'iso_code': 'KE', 'region': 'Africa', 'name'...   \n",
       "1  [{'iso_code': 'KE', 'region': 'Africa', 'name'...   \n",
       "2  [{'iso_code': 'KE', 'region': 'Africa', 'name'...   \n",
       "3  [{'iso_code': 'KE', 'region': 'Africa', 'name'...   \n",
       "4  [{'iso_code': 'KE', 'region': 'Africa', 'name'...   \n",
       "\n",
       "   partner_currency_exchange_loss_rate  partner_default_rate  \\\n",
       "0                             0.431935              2.575299   \n",
       "1                             0.120642              0.000000   \n",
       "2                             0.431935              2.575299   \n",
       "3                             0.431935              2.575299   \n",
       "4                             0.431935              2.575299   \n",
       "\n",
       "   partner_delinquency_rate  partner_delinquency_rate_note  \\\n",
       "0                  2.536684                            NaN   \n",
       "1                  7.017031                            NaN   \n",
       "2                  2.536684                            NaN   \n",
       "3                  2.536684                            NaN   \n",
       "4                  2.536684                            NaN   \n",
       "\n",
       "   partner_image.template_id  partner_loans_at_risk_rate  \\\n",
       "0                        1.0                   24.200354   \n",
       "1                        1.0                   21.165398   \n",
       "2                        1.0                   24.200354   \n",
       "3                        1.0                   24.200354   \n",
       "4                        1.0                   24.200354   \n",
       "\n",
       "   partner_loans_posted      ...         dispursal_datetime  number_of_loans  \\\n",
       "0               18150.0      ...        2017-05-28 07:00:00                1   \n",
       "1                1948.0      ...        2017-04-03 07:00:00                1   \n",
       "2               18150.0      ...        2017-04-28 07:00:00                1   \n",
       "3               18150.0      ...        2017-04-28 07:00:00                1   \n",
       "4               18150.0      ...        2017-04-28 07:00:00                1   \n",
       "\n",
       "   dispersal_date  posted_year posted_month  gender widowed kids  elderly  \\\n",
       "0      2017-05-28         2017            5  Female       0    1        0   \n",
       "1      2017-04-03         2017            5  Female       0    1        0   \n",
       "2      2017-04-28         2017            5  Female       0    1        0   \n",
       "3      2017-04-28         2017            5  Female       0    1        0   \n",
       "4      2017-04-28         2017            5  Female       0    1        0   \n",
       "\n",
       "  num_tags married  age    age_int  children_int age_bucket        location  \\\n",
       "0        1       0  NaN  29.558037           0.0        NaN     bomet kenya   \n",
       "1        2       0  NaN  29.558037           2.0        NaN     nyeri kenya   \n",
       "2        1       0  NaN  29.558037           0.0        NaN    litein kenya   \n",
       "3        1       1  NaN  29.558037           0.0        NaN    limuru kenya   \n",
       "4        1       1  NaN  29.558037           0.0        NaN  kenyenya kenya   \n",
       "\n",
       "          location_detail      location_str   county     province  \\\n",
       "0            Bomet, Kenya            bomet,    bomet  rift valley   \n",
       "1            Nyeri, Kenya            nyeri,    nyeri      central   \n",
       "2  Litein, Kericho, Kenya  litein, kericho,  kericho  rift valley   \n",
       "3   Limuru, Kiambu, Kenya   limuru, kiambu,   kiambu      central   \n",
       "4  Kenyenya, Kisii, Kenya  kenyenya, kisii,    kisii       nyanza   \n",
       "\n",
       "   province_capital  video  motor solar  eco_friendly  animals technology  \\\n",
       "0             bomet  False      0     0             0        0          0   \n",
       "1             nyeri  False      0     0             0        1          0   \n",
       "2           kericho  False      0     0             0        0          0   \n",
       "3            kiambu  False      0     0             1        0          1   \n",
       "4             kisii  False      0     0             1        0          1   \n",
       "\n",
       "  num_posted num_expired mean_loan mean_expired_loan  \\\n",
       "0        663         NaN  408.6727               NaN   \n",
       "1        663         NaN  408.6727               NaN   \n",
       "2        663         NaN  408.6727               NaN   \n",
       "3        663         NaN  408.6727               NaN   \n",
       "4        663         NaN  408.6727               NaN   \n",
       "\n",
       "                time_to_fund days_to_fund     time_to_expire_datetime  \\\n",
       "0  0 days 02:07:40.000000000          0.0  30 days 00:00:00.000000000   \n",
       "1  0 days 00:51:40.000000000          0.0  30 days 00:00:00.000000000   \n",
       "2  0 days 01:08:28.000000000          0.0  30 days 00:00:00.000000000   \n",
       "3  0 days 03:19:07.000000000          0.0  30 days 00:00:00.000000000   \n",
       "4  0 days 00:56:09.000000000          0.0  30 days 00:00:00.000000000   \n",
       "\n",
       "   days_to_expire             time_to_dispersal  days_to_dispersal  \\\n",
       "0            30.0    19 days 08:29:54.000000000                 19   \n",
       "1            30.0  -36 days +08:49:55.000000000                -36   \n",
       "2            30.0  -11 days +09:59:54.000000000                -11   \n",
       "3            30.0  -11 days +17:19:53.000000000                -11   \n",
       "4            30.0  -11 days +17:19:53.000000000                -11   \n",
       "\n",
       "   posted_date_unix  top_partner_id    top_partner  \n",
       "0      1.494191e+09           156.0  Juhudi Kilimo  \n",
       "1      1.494191e+09             1.0          other  \n",
       "2      1.494191e+09           156.0  Juhudi Kilimo  \n",
       "3      1.494191e+09           156.0  Juhudi Kilimo  \n",
       "4      1.494191e+09           156.0  Juhudi Kilimo  \n",
       "\n",
       "[5 rows x 92 columns]"
      ]
     },
     "execution_count": 13,
     "metadata": {},
     "output_type": "execute_result"
    }
   ],
   "source": [
    "df.head()"
   ]
  },
  {
   "cell_type": "markdown",
   "metadata": {},
   "source": [
    "This confirms our suspicion that the data is skewed to the left. However, the degree to which it is skewed is not troubling. +-5 is fairly reasonable. In the cell below we describe a way to address this if you face a dataset with more severely skewed data."
   ]
  },
  {
   "cell_type": "markdown",
   "metadata": {},
   "source": [
    "## Additional context on how to deal with skewed data:\n",
    "\n",
    "\n",
    "One potential solution is to **log transform** your data. For a quick review of logarithms, look [here](https://www.mathsisfun.com/algebra/logarithms.html). \n",
    "\n",
    "Note that when we log transform data, we change our interpretation of the final regression output. Previously we had a simple linear equation... \n",
    "\n",
    "    y = mx + b\n",
    "\n",
    "This could be interpreted as, with every unit increase in x, we get a m increase in outcome feature y. Now we have a log equation: \n",
    "\n",
    "    log(y) = mx + b\n",
    "    \n",
    "This is less intuitive, as we have to solve for y. When we solve for y through exponentiation, we get the following equation: \n",
    "\n",
    "    y = 10^(mx + b)\n",
    "    y = 10^(mx) * 10^(b)\n",
    "\n",
    "The default base for log is 10. The takeaway here is that the impact x would have on y is much larger than linear - it is **exponentiated**. We will return to this interpretation in the discussion of the linear regression model. Let's try log transforming our loan_amount variable. "
   ]
  },
  {
   "cell_type": "markdown",
   "metadata": {},
   "source": [
    "### Check for multicollinearity"
   ]
  },
  {
   "cell_type": "markdown",
   "metadata": {},
   "source": [
    "Numpy's Corrcoef function returns a matrix of Pearson correlation coefficients. To recap Module 2's lesson, multicollinearity is a problem when we have highly correlated explanatory features, as this makes it difficult for the model to try to differentitae between each feature's influence on the explanatory feature. Read more about Numpy's Corrcoef [here](https://docs.scipy.org/doc/numpy-1.10.1/reference/generated/numpy.corrcoef.html).\n",
    "\n",
    "Try running different features!"
   ]
  },
  {
   "cell_type": "code",
   "execution_count": 14,
   "metadata": {},
   "outputs": [
    {
     "data": {
      "text/plain": [
       "array([[ 1.        ,  0.99999996],\n",
       "       [ 0.99999996,  1.        ]])"
      ]
     },
     "execution_count": 14,
     "metadata": {},
     "output_type": "execute_result"
    }
   ],
   "source": [
    "np.corrcoef(df[(df['borrower_count'] == 1)].loan_amount, df[(df['borrower_count'] == 1)].funded_amount)"
   ]
  },
  {
   "cell_type": "markdown",
   "metadata": {},
   "source": [
    "This tells us that loan amount and funded amount are extremely highly correlated - a vast majority of loans requested get funded! Normally, we would be interested in both loan_amount and funded_amount as an outcome feature, but here we see that it would be redundant to test both. \n",
    "\n",
    "It would take a long time for us to test each and every relationship between two sets of variables, so let's create a correlation matrix that lets us visualize every correlation in a dataset using Pandas."
   ]
  },
  {
   "cell_type": "code",
   "execution_count": 15,
   "metadata": {},
   "outputs": [
    {
     "data": {
      "text/html": [
       "<div>\n",
       "<style>\n",
       "    .dataframe thead tr:only-child th {\n",
       "        text-align: right;\n",
       "    }\n",
       "\n",
       "    .dataframe thead th {\n",
       "        text-align: left;\n",
       "    }\n",
       "\n",
       "    .dataframe tbody tr th {\n",
       "        vertical-align: top;\n",
       "    }\n",
       "</style>\n",
       "<table border=\"1\" class=\"dataframe\">\n",
       "  <thead>\n",
       "    <tr style=\"text-align: right;\">\n",
       "      <th></th>\n",
       "      <th>loan_amount</th>\n",
       "      <th>partner_loans_posted</th>\n",
       "      <th>posted_month</th>\n",
       "      <th>partner_delinquency_rate</th>\n",
       "    </tr>\n",
       "  </thead>\n",
       "  <tbody>\n",
       "    <tr>\n",
       "      <th>loan_amount</th>\n",
       "      <td>1.000000</td>\n",
       "      <td>-0.199145</td>\n",
       "      <td>-0.021072</td>\n",
       "      <td>0.018819</td>\n",
       "    </tr>\n",
       "    <tr>\n",
       "      <th>partner_loans_posted</th>\n",
       "      <td>-0.199145</td>\n",
       "      <td>1.000000</td>\n",
       "      <td>-0.002168</td>\n",
       "      <td>0.316437</td>\n",
       "    </tr>\n",
       "    <tr>\n",
       "      <th>posted_month</th>\n",
       "      <td>-0.021072</td>\n",
       "      <td>-0.002168</td>\n",
       "      <td>1.000000</td>\n",
       "      <td>0.000512</td>\n",
       "    </tr>\n",
       "    <tr>\n",
       "      <th>partner_delinquency_rate</th>\n",
       "      <td>0.018819</td>\n",
       "      <td>0.316437</td>\n",
       "      <td>0.000512</td>\n",
       "      <td>1.000000</td>\n",
       "    </tr>\n",
       "  </tbody>\n",
       "</table>\n",
       "</div>"
      ],
      "text/plain": [
       "                          loan_amount  partner_loans_posted  posted_month  \\\n",
       "loan_amount                  1.000000             -0.199145     -0.021072   \n",
       "partner_loans_posted        -0.199145              1.000000     -0.002168   \n",
       "posted_month                -0.021072             -0.002168      1.000000   \n",
       "partner_delinquency_rate     0.018819              0.316437      0.000512   \n",
       "\n",
       "                          partner_delinquency_rate  \n",
       "loan_amount                               0.018819  \n",
       "partner_loans_posted                      0.316437  \n",
       "posted_month                              0.000512  \n",
       "partner_delinquency_rate                  1.000000  "
      ]
     },
     "execution_count": 15,
     "metadata": {},
     "output_type": "execute_result"
    }
   ],
   "source": [
    "df_corr_tbl = df[['loan_amount','partner_loans_posted', 'posted_month', 'partner_delinquency_rate']]\n",
    "df_corr_tbl.corr()"
   ]
  },
  {
   "cell_type": "markdown",
   "metadata": {},
   "source": [
    "Of course, not every correlation in this table will be meaningful. A correlation table is useful as it provides a visual shortcut to see what relationships might be problematic for multicollinearity. It appears we have no issues with collinearity."
   ]
  },
  {
   "cell_type": "markdown",
   "metadata": {},
   "source": [
    "## Preparing Our Data Set for Modeling"
   ]
  },
  {
   "cell_type": "markdown",
   "metadata": {},
   "source": [
    "Let's now list the features that we want to use in our model.\n",
    "Sklearn's can only handle boolean or numeric variables, so we will need to one-hot encode\n",
    "some of the string variables further on. "
   ]
  },
  {
   "cell_type": "markdown",
   "metadata": {},
   "source": [
    "The code below reduces the dataframe to the feature columns we want to include, creates a copy of this df which is the **training array**, pulls out the feature that we are trying to predict and stores this as a separate **training results** array."
   ]
  },
  {
   "cell_type": "code",
   "execution_count": 16,
   "metadata": {
    "collapsed": true
   },
   "outputs": [],
   "source": [
    "# list of features that we think may be interested to include\n",
    "cols = df[['loan_amount', 'num_tags','days_to_fund',\\\n",
    "           'days_to_expire','posted_date_unix', 'married',\\\n",
    "           'posted_month','activity','age_int','children_int',\\\n",
    "           'sector','tags', 'posted_month','posted_year', 'married', 'kids', 'video',\\\n",
    "           'num_posted','partner_loans_posted','partner_delinquency_rate',\\\n",
    "           'age_int', 'top_partner','gender','province','partner_loans_posted','county']]\n",
    "# create a copy of the dataframe\n",
    "rf_trainArr = cols.copy()\n",
    "rf_trainArr = rf_trainArr.dropna()"
   ]
  },
  {
   "cell_type": "markdown",
   "metadata": {},
   "source": [
    "One of the features here is tags which includes a range of different tags. Although we created fields for some of this tags in module 2 (eco-friendly, animal and technology'), we going to expand this further in this module. It's is also a good opportunity to introduce you to some additional methods to engineer features."
   ]
  },
  {
   "cell_type": "code",
   "execution_count": 17,
   "metadata": {
    "scrolled": true
   },
   "outputs": [
    {
     "data": {
      "text/plain": [
       "Index(['[]', '[{'name': '#Woman Owned Biz'}, {'name': '#Parent'}]',\n",
       "       '[{'name': 'user_favorite'}]',\n",
       "       '[{'name': '#Woman Owned Biz'}, {'name': '#Parent'}, {'name': '#Repeat Borrower'}]',\n",
       "       '[{'name': '#Parent'}]', '[{'name': '#Woman Owned Biz'}]',\n",
       "       '[{'name': '#Woman Owned Biz'}, {'name': '#Parent'}, {'name': '#Schooling'}]',\n",
       "       '[{'name': '#Woman Owned Biz'}, {'name': '#Vegan'}, {'name': '#Parent'}]',\n",
       "       '[{'name': 'volunteer_pick'}]',\n",
       "       '[{'name': '#Parent'}, {'name': '#Repeat Borrower'}]'],\n",
       "      dtype='object')"
      ]
     },
     "execution_count": 17,
     "metadata": {},
     "output_type": "execute_result"
    }
   ],
   "source": [
    "rf_trainArr['tags'].value_counts().index[:10]"
   ]
  },
  {
   "cell_type": "markdown",
   "metadata": {},
   "source": [
    "Lets create individual features for tags that we think may be interesting and hot code the reponse. This means that value of that features = 1 if the tag was present and 0 if the tag was not present."
   ]
  },
  {
   "cell_type": "code",
   "execution_count": 18,
   "metadata": {
    "collapsed": true
   },
   "outputs": [],
   "source": [
    "tag_vals = [\"#Woman Owned Biz\", \"#Parent\", \"user_favorite\", \"#Repeat Borrower\", \"#Schooling\", \"volunteer_pick\", \"#Vegan\", \"volunteer_like\",\"#Animals\", \"#Eco-friendly\", \"#Technology\"]\n",
    "for tag in tag_vals:\n",
    "    if tag not in rf_trainArr.columns:\n",
    "        rf_trainArr['tag_'+str(tag)] = rf_trainArr['tags'].apply(lambda x: 1 if tag in x else 0)\n"
   ]
  },
  {
   "cell_type": "code",
   "execution_count": 19,
   "metadata": {
    "collapsed": true
   },
   "outputs": [],
   "source": [
    "rf_trainArr = rf_trainArr.drop(['tags'], axis=1)"
   ]
  },
  {
   "cell_type": "markdown",
   "metadata": {},
   "source": [
    "In addition, there are some features which have a large range of possible responses. Instead of using each possible response as a features, we will just take the top 10. So example, lets look at the top activities:"
   ]
  },
  {
   "cell_type": "code",
   "execution_count": 20,
   "metadata": {},
   "outputs": [
    {
     "data": {
      "text/plain": [
       "Index(['Farming', 'Dairy', 'Fruits & Vegetables', 'Agriculture', 'Retail',\n",
       "       'General Store', 'Clothing Sales', 'Poultry', 'Cereals', 'Food Stall'],\n",
       "      dtype='object')"
      ]
     },
     "execution_count": 20,
     "metadata": {},
     "output_type": "execute_result"
    }
   ],
   "source": [
    "rf_trainArr['activity'].value_counts().index[0:10]"
   ]
  },
  {
   "cell_type": "code",
   "execution_count": 21,
   "metadata": {},
   "outputs": [
    {
     "data": {
      "text/html": [
       "<div>\n",
       "<style>\n",
       "    .dataframe thead tr:only-child th {\n",
       "        text-align: right;\n",
       "    }\n",
       "\n",
       "    .dataframe thead th {\n",
       "        text-align: left;\n",
       "    }\n",
       "\n",
       "    .dataframe tbody tr th {\n",
       "        vertical-align: top;\n",
       "    }\n",
       "</style>\n",
       "<table border=\"1\" class=\"dataframe\">\n",
       "  <thead>\n",
       "    <tr style=\"text-align: right;\">\n",
       "      <th></th>\n",
       "      <th>loan_amount</th>\n",
       "      <th>num_tags</th>\n",
       "      <th>days_to_fund</th>\n",
       "      <th>days_to_expire</th>\n",
       "      <th>posted_date_unix</th>\n",
       "      <th>married</th>\n",
       "      <th>posted_month</th>\n",
       "      <th>activity</th>\n",
       "      <th>age_int</th>\n",
       "      <th>children_int</th>\n",
       "      <th>sector</th>\n",
       "      <th>posted_month</th>\n",
       "      <th>posted_year</th>\n",
       "      <th>married</th>\n",
       "      <th>kids</th>\n",
       "      <th>video</th>\n",
       "      <th>num_posted</th>\n",
       "      <th>partner_loans_posted</th>\n",
       "      <th>partner_delinquency_rate</th>\n",
       "      <th>age_int</th>\n",
       "      <th>top_partner</th>\n",
       "      <th>gender</th>\n",
       "      <th>province</th>\n",
       "      <th>partner_loans_posted</th>\n",
       "      <th>county</th>\n",
       "      <th>tag_#Woman Owned Biz</th>\n",
       "      <th>tag_#Parent</th>\n",
       "      <th>tag_user_favorite</th>\n",
       "      <th>tag_#Repeat Borrower</th>\n",
       "      <th>tag_#Schooling</th>\n",
       "      <th>tag_volunteer_pick</th>\n",
       "      <th>tag_#Vegan</th>\n",
       "      <th>tag_volunteer_like</th>\n",
       "      <th>tag_#Animals</th>\n",
       "      <th>tag_#Eco-friendly</th>\n",
       "      <th>tag_#Technology</th>\n",
       "    </tr>\n",
       "  </thead>\n",
       "  <tbody>\n",
       "    <tr>\n",
       "      <th>0</th>\n",
       "      <td>150</td>\n",
       "      <td>1</td>\n",
       "      <td>0.0</td>\n",
       "      <td>30.0</td>\n",
       "      <td>1.494191e+09</td>\n",
       "      <td>0</td>\n",
       "      <td>5</td>\n",
       "      <td>Primary/secondary school costs</td>\n",
       "      <td>29.558037</td>\n",
       "      <td>0.0</td>\n",
       "      <td>Education</td>\n",
       "      <td>5</td>\n",
       "      <td>2017</td>\n",
       "      <td>0</td>\n",
       "      <td>1</td>\n",
       "      <td>False</td>\n",
       "      <td>663</td>\n",
       "      <td>18150.0</td>\n",
       "      <td>2.536684</td>\n",
       "      <td>29.558037</td>\n",
       "      <td>Juhudi Kilimo</td>\n",
       "      <td>Female</td>\n",
       "      <td>rift valley</td>\n",
       "      <td>18150.0</td>\n",
       "      <td>bomet</td>\n",
       "      <td>0</td>\n",
       "      <td>1</td>\n",
       "      <td>0</td>\n",
       "      <td>0</td>\n",
       "      <td>1</td>\n",
       "      <td>0</td>\n",
       "      <td>0</td>\n",
       "      <td>0</td>\n",
       "      <td>0</td>\n",
       "      <td>0</td>\n",
       "      <td>0</td>\n",
       "    </tr>\n",
       "    <tr>\n",
       "      <th>1</th>\n",
       "      <td>100</td>\n",
       "      <td>2</td>\n",
       "      <td>0.0</td>\n",
       "      <td>30.0</td>\n",
       "      <td>1.494191e+09</td>\n",
       "      <td>0</td>\n",
       "      <td>5</td>\n",
       "      <td>Celebrations</td>\n",
       "      <td>29.558037</td>\n",
       "      <td>2.0</td>\n",
       "      <td>Personal Use</td>\n",
       "      <td>5</td>\n",
       "      <td>2017</td>\n",
       "      <td>0</td>\n",
       "      <td>1</td>\n",
       "      <td>False</td>\n",
       "      <td>663</td>\n",
       "      <td>1948.0</td>\n",
       "      <td>7.017031</td>\n",
       "      <td>29.558037</td>\n",
       "      <td>other</td>\n",
       "      <td>Female</td>\n",
       "      <td>central</td>\n",
       "      <td>1948.0</td>\n",
       "      <td>nyeri</td>\n",
       "      <td>0</td>\n",
       "      <td>1</td>\n",
       "      <td>0</td>\n",
       "      <td>0</td>\n",
       "      <td>0</td>\n",
       "      <td>0</td>\n",
       "      <td>0</td>\n",
       "      <td>0</td>\n",
       "      <td>1</td>\n",
       "      <td>0</td>\n",
       "      <td>0</td>\n",
       "    </tr>\n",
       "  </tbody>\n",
       "</table>\n",
       "</div>"
      ],
      "text/plain": [
       "   loan_amount  num_tags  days_to_fund  days_to_expire  posted_date_unix  \\\n",
       "0          150         1           0.0            30.0      1.494191e+09   \n",
       "1          100         2           0.0            30.0      1.494191e+09   \n",
       "\n",
       "   married  posted_month                        activity    age_int  \\\n",
       "0        0             5  Primary/secondary school costs  29.558037   \n",
       "1        0             5                    Celebrations  29.558037   \n",
       "\n",
       "   children_int        sector  posted_month  posted_year  married  kids  \\\n",
       "0           0.0     Education             5         2017        0     1   \n",
       "1           2.0  Personal Use             5         2017        0     1   \n",
       "\n",
       "   video  num_posted  partner_loans_posted  partner_delinquency_rate  \\\n",
       "0  False         663               18150.0                  2.536684   \n",
       "1  False         663                1948.0                  7.017031   \n",
       "\n",
       "     age_int    top_partner  gender     province  partner_loans_posted county  \\\n",
       "0  29.558037  Juhudi Kilimo  Female  rift valley               18150.0  bomet   \n",
       "1  29.558037          other  Female      central                1948.0  nyeri   \n",
       "\n",
       "   tag_#Woman Owned Biz  tag_#Parent  tag_user_favorite  tag_#Repeat Borrower  \\\n",
       "0                     0            1                  0                     0   \n",
       "1                     0            1                  0                     0   \n",
       "\n",
       "   tag_#Schooling  tag_volunteer_pick  tag_#Vegan  tag_volunteer_like  \\\n",
       "0               1                   0           0                   0   \n",
       "1               0                   0           0                   0   \n",
       "\n",
       "   tag_#Animals  tag_#Eco-friendly  tag_#Technology  \n",
       "0             0                  0                0  \n",
       "1             1                  0                0  "
      ]
     },
     "execution_count": 21,
     "metadata": {},
     "output_type": "execute_result"
    }
   ],
   "source": [
    "rf_trainArr.head(2)"
   ]
  },
  {
   "cell_type": "markdown",
   "metadata": {},
   "source": [
    "The following code takes the top ten occurences for **activity, partner_id, location.town and sector** and creates hot coded. features for each one"
   ]
  },
  {
   "cell_type": "code",
   "execution_count": 22,
   "metadata": {
    "collapsed": true
   },
   "outputs": [],
   "source": [
    "col_vals = rf_trainArr['activity'].value_counts().index[:10]"
   ]
  },
  {
   "cell_type": "code",
   "execution_count": 23,
   "metadata": {
    "collapsed": true
   },
   "outputs": [],
   "source": [
    "cols_to_separate = ['activity','sector','county','province','gender', 'top_partner']\n",
    "for col in cols_to_separate:\n",
    "    # Find the top ten responses\n",
    "    col_vals = rf_trainArr[col].value_counts().index[:10]\n",
    "    for col_val in col_vals:\n",
    "        # for each response, create a new feature column and assign binary responses: 1 for yes and 0 for no\n",
    "        if col_val not in rf_trainArr.columns:\n",
    "            rf_trainArr[col+'_'+str(col_val)] = rf_trainArr[col].apply(lambda x: 1 if x == col_val else 0)\n",
    "    rf_trainArr = rf_trainArr.drop(col, axis=1)"
   ]
  },
  {
   "cell_type": "code",
   "execution_count": 24,
   "metadata": {},
   "outputs": [
    {
     "data": {
      "text/html": [
       "<div>\n",
       "<style>\n",
       "    .dataframe thead tr:only-child th {\n",
       "        text-align: right;\n",
       "    }\n",
       "\n",
       "    .dataframe thead th {\n",
       "        text-align: left;\n",
       "    }\n",
       "\n",
       "    .dataframe tbody tr th {\n",
       "        vertical-align: top;\n",
       "    }\n",
       "</style>\n",
       "<table border=\"1\" class=\"dataframe\">\n",
       "  <thead>\n",
       "    <tr style=\"text-align: right;\">\n",
       "      <th></th>\n",
       "      <th>loan_amount</th>\n",
       "      <th>num_tags</th>\n",
       "      <th>days_to_fund</th>\n",
       "      <th>days_to_expire</th>\n",
       "      <th>posted_date_unix</th>\n",
       "      <th>married</th>\n",
       "      <th>posted_month</th>\n",
       "      <th>age_int</th>\n",
       "      <th>children_int</th>\n",
       "      <th>posted_month</th>\n",
       "      <th>posted_year</th>\n",
       "      <th>married</th>\n",
       "      <th>kids</th>\n",
       "      <th>video</th>\n",
       "      <th>num_posted</th>\n",
       "      <th>partner_loans_posted</th>\n",
       "      <th>partner_delinquency_rate</th>\n",
       "      <th>age_int</th>\n",
       "      <th>partner_loans_posted</th>\n",
       "      <th>tag_#Woman Owned Biz</th>\n",
       "      <th>tag_#Parent</th>\n",
       "      <th>tag_user_favorite</th>\n",
       "      <th>tag_#Repeat Borrower</th>\n",
       "      <th>tag_#Schooling</th>\n",
       "      <th>tag_volunteer_pick</th>\n",
       "      <th>tag_#Vegan</th>\n",
       "      <th>tag_volunteer_like</th>\n",
       "      <th>tag_#Animals</th>\n",
       "      <th>tag_#Eco-friendly</th>\n",
       "      <th>tag_#Technology</th>\n",
       "      <th>activity_Farming</th>\n",
       "      <th>activity_Dairy</th>\n",
       "      <th>activity_Fruits &amp; Vegetables</th>\n",
       "      <th>activity_Agriculture</th>\n",
       "      <th>activity_Retail</th>\n",
       "      <th>activity_General Store</th>\n",
       "      <th>activity_Clothing Sales</th>\n",
       "      <th>activity_Poultry</th>\n",
       "      <th>activity_Cereals</th>\n",
       "      <th>activity_Food Stall</th>\n",
       "      <th>sector_Agriculture</th>\n",
       "      <th>sector_Food</th>\n",
       "      <th>sector_Retail</th>\n",
       "      <th>sector_Services</th>\n",
       "      <th>sector_Clothing</th>\n",
       "      <th>sector_Transportation</th>\n",
       "      <th>sector_Personal Use</th>\n",
       "      <th>sector_Education</th>\n",
       "      <th>sector_Construction</th>\n",
       "      <th>sector_Health</th>\n",
       "      <th>county_mombasa</th>\n",
       "      <th>county_nakuru</th>\n",
       "      <th>county_nairobi</th>\n",
       "      <th>county_kwale</th>\n",
       "      <th>county_bungoma</th>\n",
       "      <th>county_kisii</th>\n",
       "      <th>county_trans nzoia</th>\n",
       "      <th>county_kiambu</th>\n",
       "      <th>county_uasin</th>\n",
       "      <th>county_kisumu</th>\n",
       "      <th>province_rift valley</th>\n",
       "      <th>province_coast</th>\n",
       "      <th>province_nyanza</th>\n",
       "      <th>province_western</th>\n",
       "      <th>province_eastern</th>\n",
       "      <th>province_nairobi</th>\n",
       "      <th>province_central</th>\n",
       "      <th>gender_Female</th>\n",
       "      <th>gender_Male</th>\n",
       "      <th>top_partner_other</th>\n",
       "      <th>top_partner_VisionFund Kenya</th>\n",
       "      <th>top_partner_Yehu Microfinance Trust</th>\n",
       "      <th>top_partner_SMEP Microfinance Bank</th>\n",
       "      <th>top_partner_Juhudi Kilimo</th>\n",
       "      <th>top_partner_Faulu Kenya</th>\n",
       "    </tr>\n",
       "  </thead>\n",
       "  <tbody>\n",
       "    <tr>\n",
       "      <th>0</th>\n",
       "      <td>150</td>\n",
       "      <td>1</td>\n",
       "      <td>0.0</td>\n",
       "      <td>30.0</td>\n",
       "      <td>1.494191e+09</td>\n",
       "      <td>0</td>\n",
       "      <td>5</td>\n",
       "      <td>29.558037</td>\n",
       "      <td>0.0</td>\n",
       "      <td>5</td>\n",
       "      <td>2017</td>\n",
       "      <td>0</td>\n",
       "      <td>1</td>\n",
       "      <td>False</td>\n",
       "      <td>663</td>\n",
       "      <td>18150.0</td>\n",
       "      <td>2.536684</td>\n",
       "      <td>29.558037</td>\n",
       "      <td>18150.0</td>\n",
       "      <td>0</td>\n",
       "      <td>1</td>\n",
       "      <td>0</td>\n",
       "      <td>0</td>\n",
       "      <td>1</td>\n",
       "      <td>0</td>\n",
       "      <td>0</td>\n",
       "      <td>0</td>\n",
       "      <td>0</td>\n",
       "      <td>0</td>\n",
       "      <td>0</td>\n",
       "      <td>0</td>\n",
       "      <td>0</td>\n",
       "      <td>0</td>\n",
       "      <td>0</td>\n",
       "      <td>0</td>\n",
       "      <td>0</td>\n",
       "      <td>0</td>\n",
       "      <td>0</td>\n",
       "      <td>0</td>\n",
       "      <td>0</td>\n",
       "      <td>0</td>\n",
       "      <td>0</td>\n",
       "      <td>0</td>\n",
       "      <td>0</td>\n",
       "      <td>0</td>\n",
       "      <td>0</td>\n",
       "      <td>0</td>\n",
       "      <td>1</td>\n",
       "      <td>0</td>\n",
       "      <td>0</td>\n",
       "      <td>0</td>\n",
       "      <td>0</td>\n",
       "      <td>0</td>\n",
       "      <td>0</td>\n",
       "      <td>0</td>\n",
       "      <td>0</td>\n",
       "      <td>0</td>\n",
       "      <td>0</td>\n",
       "      <td>0</td>\n",
       "      <td>0</td>\n",
       "      <td>1</td>\n",
       "      <td>0</td>\n",
       "      <td>0</td>\n",
       "      <td>0</td>\n",
       "      <td>0</td>\n",
       "      <td>0</td>\n",
       "      <td>0</td>\n",
       "      <td>1</td>\n",
       "      <td>0</td>\n",
       "      <td>0</td>\n",
       "      <td>0</td>\n",
       "      <td>0</td>\n",
       "      <td>0</td>\n",
       "      <td>1</td>\n",
       "      <td>0</td>\n",
       "    </tr>\n",
       "    <tr>\n",
       "      <th>1</th>\n",
       "      <td>100</td>\n",
       "      <td>2</td>\n",
       "      <td>0.0</td>\n",
       "      <td>30.0</td>\n",
       "      <td>1.494191e+09</td>\n",
       "      <td>0</td>\n",
       "      <td>5</td>\n",
       "      <td>29.558037</td>\n",
       "      <td>2.0</td>\n",
       "      <td>5</td>\n",
       "      <td>2017</td>\n",
       "      <td>0</td>\n",
       "      <td>1</td>\n",
       "      <td>False</td>\n",
       "      <td>663</td>\n",
       "      <td>1948.0</td>\n",
       "      <td>7.017031</td>\n",
       "      <td>29.558037</td>\n",
       "      <td>1948.0</td>\n",
       "      <td>0</td>\n",
       "      <td>1</td>\n",
       "      <td>0</td>\n",
       "      <td>0</td>\n",
       "      <td>0</td>\n",
       "      <td>0</td>\n",
       "      <td>0</td>\n",
       "      <td>0</td>\n",
       "      <td>1</td>\n",
       "      <td>0</td>\n",
       "      <td>0</td>\n",
       "      <td>0</td>\n",
       "      <td>0</td>\n",
       "      <td>0</td>\n",
       "      <td>0</td>\n",
       "      <td>0</td>\n",
       "      <td>0</td>\n",
       "      <td>0</td>\n",
       "      <td>0</td>\n",
       "      <td>0</td>\n",
       "      <td>0</td>\n",
       "      <td>0</td>\n",
       "      <td>0</td>\n",
       "      <td>0</td>\n",
       "      <td>0</td>\n",
       "      <td>0</td>\n",
       "      <td>0</td>\n",
       "      <td>1</td>\n",
       "      <td>0</td>\n",
       "      <td>0</td>\n",
       "      <td>0</td>\n",
       "      <td>0</td>\n",
       "      <td>0</td>\n",
       "      <td>0</td>\n",
       "      <td>0</td>\n",
       "      <td>0</td>\n",
       "      <td>0</td>\n",
       "      <td>0</td>\n",
       "      <td>0</td>\n",
       "      <td>0</td>\n",
       "      <td>0</td>\n",
       "      <td>0</td>\n",
       "      <td>0</td>\n",
       "      <td>0</td>\n",
       "      <td>0</td>\n",
       "      <td>0</td>\n",
       "      <td>0</td>\n",
       "      <td>1</td>\n",
       "      <td>1</td>\n",
       "      <td>0</td>\n",
       "      <td>1</td>\n",
       "      <td>0</td>\n",
       "      <td>0</td>\n",
       "      <td>0</td>\n",
       "      <td>0</td>\n",
       "      <td>0</td>\n",
       "    </tr>\n",
       "    <tr>\n",
       "      <th>2</th>\n",
       "      <td>150</td>\n",
       "      <td>1</td>\n",
       "      <td>0.0</td>\n",
       "      <td>30.0</td>\n",
       "      <td>1.494191e+09</td>\n",
       "      <td>0</td>\n",
       "      <td>5</td>\n",
       "      <td>29.558037</td>\n",
       "      <td>0.0</td>\n",
       "      <td>5</td>\n",
       "      <td>2017</td>\n",
       "      <td>0</td>\n",
       "      <td>1</td>\n",
       "      <td>False</td>\n",
       "      <td>663</td>\n",
       "      <td>18150.0</td>\n",
       "      <td>2.536684</td>\n",
       "      <td>29.558037</td>\n",
       "      <td>18150.0</td>\n",
       "      <td>0</td>\n",
       "      <td>1</td>\n",
       "      <td>0</td>\n",
       "      <td>0</td>\n",
       "      <td>1</td>\n",
       "      <td>0</td>\n",
       "      <td>0</td>\n",
       "      <td>0</td>\n",
       "      <td>0</td>\n",
       "      <td>0</td>\n",
       "      <td>0</td>\n",
       "      <td>0</td>\n",
       "      <td>0</td>\n",
       "      <td>0</td>\n",
       "      <td>0</td>\n",
       "      <td>0</td>\n",
       "      <td>0</td>\n",
       "      <td>0</td>\n",
       "      <td>0</td>\n",
       "      <td>0</td>\n",
       "      <td>0</td>\n",
       "      <td>0</td>\n",
       "      <td>0</td>\n",
       "      <td>0</td>\n",
       "      <td>0</td>\n",
       "      <td>0</td>\n",
       "      <td>0</td>\n",
       "      <td>0</td>\n",
       "      <td>1</td>\n",
       "      <td>0</td>\n",
       "      <td>0</td>\n",
       "      <td>0</td>\n",
       "      <td>0</td>\n",
       "      <td>0</td>\n",
       "      <td>0</td>\n",
       "      <td>0</td>\n",
       "      <td>0</td>\n",
       "      <td>0</td>\n",
       "      <td>0</td>\n",
       "      <td>0</td>\n",
       "      <td>0</td>\n",
       "      <td>1</td>\n",
       "      <td>0</td>\n",
       "      <td>0</td>\n",
       "      <td>0</td>\n",
       "      <td>0</td>\n",
       "      <td>0</td>\n",
       "      <td>0</td>\n",
       "      <td>1</td>\n",
       "      <td>0</td>\n",
       "      <td>0</td>\n",
       "      <td>0</td>\n",
       "      <td>0</td>\n",
       "      <td>0</td>\n",
       "      <td>1</td>\n",
       "      <td>0</td>\n",
       "    </tr>\n",
       "    <tr>\n",
       "      <th>3</th>\n",
       "      <td>150</td>\n",
       "      <td>1</td>\n",
       "      <td>0.0</td>\n",
       "      <td>30.0</td>\n",
       "      <td>1.494191e+09</td>\n",
       "      <td>1</td>\n",
       "      <td>5</td>\n",
       "      <td>29.558037</td>\n",
       "      <td>0.0</td>\n",
       "      <td>5</td>\n",
       "      <td>2017</td>\n",
       "      <td>1</td>\n",
       "      <td>1</td>\n",
       "      <td>False</td>\n",
       "      <td>663</td>\n",
       "      <td>18150.0</td>\n",
       "      <td>2.536684</td>\n",
       "      <td>29.558037</td>\n",
       "      <td>18150.0</td>\n",
       "      <td>0</td>\n",
       "      <td>0</td>\n",
       "      <td>0</td>\n",
       "      <td>0</td>\n",
       "      <td>0</td>\n",
       "      <td>0</td>\n",
       "      <td>0</td>\n",
       "      <td>0</td>\n",
       "      <td>0</td>\n",
       "      <td>1</td>\n",
       "      <td>1</td>\n",
       "      <td>0</td>\n",
       "      <td>0</td>\n",
       "      <td>0</td>\n",
       "      <td>0</td>\n",
       "      <td>0</td>\n",
       "      <td>0</td>\n",
       "      <td>0</td>\n",
       "      <td>0</td>\n",
       "      <td>0</td>\n",
       "      <td>0</td>\n",
       "      <td>0</td>\n",
       "      <td>0</td>\n",
       "      <td>0</td>\n",
       "      <td>0</td>\n",
       "      <td>0</td>\n",
       "      <td>0</td>\n",
       "      <td>1</td>\n",
       "      <td>0</td>\n",
       "      <td>0</td>\n",
       "      <td>0</td>\n",
       "      <td>0</td>\n",
       "      <td>0</td>\n",
       "      <td>0</td>\n",
       "      <td>0</td>\n",
       "      <td>0</td>\n",
       "      <td>0</td>\n",
       "      <td>0</td>\n",
       "      <td>1</td>\n",
       "      <td>0</td>\n",
       "      <td>0</td>\n",
       "      <td>0</td>\n",
       "      <td>0</td>\n",
       "      <td>0</td>\n",
       "      <td>0</td>\n",
       "      <td>0</td>\n",
       "      <td>0</td>\n",
       "      <td>1</td>\n",
       "      <td>1</td>\n",
       "      <td>0</td>\n",
       "      <td>0</td>\n",
       "      <td>0</td>\n",
       "      <td>0</td>\n",
       "      <td>0</td>\n",
       "      <td>1</td>\n",
       "      <td>0</td>\n",
       "    </tr>\n",
       "    <tr>\n",
       "      <th>4</th>\n",
       "      <td>75</td>\n",
       "      <td>1</td>\n",
       "      <td>0.0</td>\n",
       "      <td>30.0</td>\n",
       "      <td>1.494191e+09</td>\n",
       "      <td>1</td>\n",
       "      <td>5</td>\n",
       "      <td>29.558037</td>\n",
       "      <td>0.0</td>\n",
       "      <td>5</td>\n",
       "      <td>2017</td>\n",
       "      <td>1</td>\n",
       "      <td>1</td>\n",
       "      <td>False</td>\n",
       "      <td>663</td>\n",
       "      <td>18150.0</td>\n",
       "      <td>2.536684</td>\n",
       "      <td>29.558037</td>\n",
       "      <td>18150.0</td>\n",
       "      <td>0</td>\n",
       "      <td>0</td>\n",
       "      <td>0</td>\n",
       "      <td>0</td>\n",
       "      <td>0</td>\n",
       "      <td>0</td>\n",
       "      <td>0</td>\n",
       "      <td>0</td>\n",
       "      <td>0</td>\n",
       "      <td>1</td>\n",
       "      <td>1</td>\n",
       "      <td>0</td>\n",
       "      <td>0</td>\n",
       "      <td>0</td>\n",
       "      <td>0</td>\n",
       "      <td>0</td>\n",
       "      <td>0</td>\n",
       "      <td>0</td>\n",
       "      <td>0</td>\n",
       "      <td>0</td>\n",
       "      <td>0</td>\n",
       "      <td>0</td>\n",
       "      <td>0</td>\n",
       "      <td>0</td>\n",
       "      <td>0</td>\n",
       "      <td>0</td>\n",
       "      <td>0</td>\n",
       "      <td>1</td>\n",
       "      <td>0</td>\n",
       "      <td>0</td>\n",
       "      <td>0</td>\n",
       "      <td>0</td>\n",
       "      <td>0</td>\n",
       "      <td>0</td>\n",
       "      <td>0</td>\n",
       "      <td>0</td>\n",
       "      <td>1</td>\n",
       "      <td>0</td>\n",
       "      <td>0</td>\n",
       "      <td>0</td>\n",
       "      <td>0</td>\n",
       "      <td>0</td>\n",
       "      <td>0</td>\n",
       "      <td>1</td>\n",
       "      <td>0</td>\n",
       "      <td>0</td>\n",
       "      <td>0</td>\n",
       "      <td>0</td>\n",
       "      <td>1</td>\n",
       "      <td>0</td>\n",
       "      <td>0</td>\n",
       "      <td>0</td>\n",
       "      <td>0</td>\n",
       "      <td>0</td>\n",
       "      <td>1</td>\n",
       "      <td>0</td>\n",
       "    </tr>\n",
       "  </tbody>\n",
       "</table>\n",
       "</div>"
      ],
      "text/plain": [
       "   loan_amount  num_tags  days_to_fund  days_to_expire  posted_date_unix  \\\n",
       "0          150         1           0.0            30.0      1.494191e+09   \n",
       "1          100         2           0.0            30.0      1.494191e+09   \n",
       "2          150         1           0.0            30.0      1.494191e+09   \n",
       "3          150         1           0.0            30.0      1.494191e+09   \n",
       "4           75         1           0.0            30.0      1.494191e+09   \n",
       "\n",
       "   married  posted_month    age_int  children_int  posted_month  posted_year  \\\n",
       "0        0             5  29.558037           0.0             5         2017   \n",
       "1        0             5  29.558037           2.0             5         2017   \n",
       "2        0             5  29.558037           0.0             5         2017   \n",
       "3        1             5  29.558037           0.0             5         2017   \n",
       "4        1             5  29.558037           0.0             5         2017   \n",
       "\n",
       "   married  kids  video  num_posted  partner_loans_posted  \\\n",
       "0        0     1  False         663               18150.0   \n",
       "1        0     1  False         663                1948.0   \n",
       "2        0     1  False         663               18150.0   \n",
       "3        1     1  False         663               18150.0   \n",
       "4        1     1  False         663               18150.0   \n",
       "\n",
       "   partner_delinquency_rate    age_int  partner_loans_posted  \\\n",
       "0                  2.536684  29.558037               18150.0   \n",
       "1                  7.017031  29.558037                1948.0   \n",
       "2                  2.536684  29.558037               18150.0   \n",
       "3                  2.536684  29.558037               18150.0   \n",
       "4                  2.536684  29.558037               18150.0   \n",
       "\n",
       "   tag_#Woman Owned Biz  tag_#Parent  tag_user_favorite  tag_#Repeat Borrower  \\\n",
       "0                     0            1                  0                     0   \n",
       "1                     0            1                  0                     0   \n",
       "2                     0            1                  0                     0   \n",
       "3                     0            0                  0                     0   \n",
       "4                     0            0                  0                     0   \n",
       "\n",
       "   tag_#Schooling  tag_volunteer_pick  tag_#Vegan  tag_volunteer_like  \\\n",
       "0               1                   0           0                   0   \n",
       "1               0                   0           0                   0   \n",
       "2               1                   0           0                   0   \n",
       "3               0                   0           0                   0   \n",
       "4               0                   0           0                   0   \n",
       "\n",
       "   tag_#Animals  tag_#Eco-friendly  tag_#Technology  activity_Farming  \\\n",
       "0             0                  0                0                 0   \n",
       "1             1                  0                0                 0   \n",
       "2             0                  0                0                 0   \n",
       "3             0                  1                1                 0   \n",
       "4             0                  1                1                 0   \n",
       "\n",
       "   activity_Dairy  activity_Fruits & Vegetables  activity_Agriculture  \\\n",
       "0               0                             0                     0   \n",
       "1               0                             0                     0   \n",
       "2               0                             0                     0   \n",
       "3               0                             0                     0   \n",
       "4               0                             0                     0   \n",
       "\n",
       "   activity_Retail  activity_General Store  activity_Clothing Sales  \\\n",
       "0                0                       0                        0   \n",
       "1                0                       0                        0   \n",
       "2                0                       0                        0   \n",
       "3                0                       0                        0   \n",
       "4                0                       0                        0   \n",
       "\n",
       "   activity_Poultry  activity_Cereals  activity_Food Stall  \\\n",
       "0                 0                 0                    0   \n",
       "1                 0                 0                    0   \n",
       "2                 0                 0                    0   \n",
       "3                 0                 0                    0   \n",
       "4                 0                 0                    0   \n",
       "\n",
       "   sector_Agriculture  sector_Food  sector_Retail  sector_Services  \\\n",
       "0                   0            0              0                0   \n",
       "1                   0            0              0                0   \n",
       "2                   0            0              0                0   \n",
       "3                   0            0              0                0   \n",
       "4                   0            0              0                0   \n",
       "\n",
       "   sector_Clothing  sector_Transportation  sector_Personal Use  \\\n",
       "0                0                      0                    0   \n",
       "1                0                      0                    1   \n",
       "2                0                      0                    0   \n",
       "3                0                      0                    1   \n",
       "4                0                      0                    1   \n",
       "\n",
       "   sector_Education  sector_Construction  sector_Health  county_mombasa  \\\n",
       "0                 1                    0              0               0   \n",
       "1                 0                    0              0               0   \n",
       "2                 1                    0              0               0   \n",
       "3                 0                    0              0               0   \n",
       "4                 0                    0              0               0   \n",
       "\n",
       "   county_nakuru  county_nairobi  county_kwale  county_bungoma  county_kisii  \\\n",
       "0              0               0             0               0             0   \n",
       "1              0               0             0               0             0   \n",
       "2              0               0             0               0             0   \n",
       "3              0               0             0               0             0   \n",
       "4              0               0             0               0             1   \n",
       "\n",
       "   county_trans nzoia  county_kiambu  county_uasin  county_kisumu  \\\n",
       "0                   0              0             0              0   \n",
       "1                   0              0             0              0   \n",
       "2                   0              0             0              0   \n",
       "3                   0              1             0              0   \n",
       "4                   0              0             0              0   \n",
       "\n",
       "   province_rift valley  province_coast  province_nyanza  province_western  \\\n",
       "0                     1               0                0                 0   \n",
       "1                     0               0                0                 0   \n",
       "2                     1               0                0                 0   \n",
       "3                     0               0                0                 0   \n",
       "4                     0               0                1                 0   \n",
       "\n",
       "   province_eastern  province_nairobi  province_central  gender_Female  \\\n",
       "0                 0                 0                 0              1   \n",
       "1                 0                 0                 1              1   \n",
       "2                 0                 0                 0              1   \n",
       "3                 0                 0                 1              1   \n",
       "4                 0                 0                 0              1   \n",
       "\n",
       "   gender_Male  top_partner_other  top_partner_VisionFund Kenya  \\\n",
       "0            0                  0                             0   \n",
       "1            0                  1                             0   \n",
       "2            0                  0                             0   \n",
       "3            0                  0                             0   \n",
       "4            0                  0                             0   \n",
       "\n",
       "   top_partner_Yehu Microfinance Trust  top_partner_SMEP Microfinance Bank  \\\n",
       "0                                    0                                   0   \n",
       "1                                    0                                   0   \n",
       "2                                    0                                   0   \n",
       "3                                    0                                   0   \n",
       "4                                    0                                   0   \n",
       "\n",
       "   top_partner_Juhudi Kilimo  top_partner_Faulu Kenya  \n",
       "0                          1                        0  \n",
       "1                          0                        0  \n",
       "2                          1                        0  \n",
       "3                          1                        0  \n",
       "4                          1                        0  "
      ]
     },
     "execution_count": 24,
     "metadata": {},
     "output_type": "execute_result"
    }
   ],
   "source": [
    "rf_trainArr.head()"
   ]
  },
  {
   "cell_type": "markdown",
   "metadata": {},
   "source": [
    "Why is it necessary to "
   ]
  },
  {
   "cell_type": "markdown",
   "metadata": {},
   "source": [
    "## Linear Regression"
   ]
  },
  {
   "cell_type": "markdown",
   "metadata": {},
   "source": [
    "Now we have two separate datasets: train_set and test_set. We will run the regression on train_set\n",
    "using statsmodel's \"ols\" function since the output is more intuitive. Let's try a simple example to start: "
   ]
  },
  {
   "cell_type": "code",
   "execution_count": 25,
   "metadata": {},
   "outputs": [
    {
     "data": {
      "text/html": [
       "<div>\n",
       "<style>\n",
       "    .dataframe thead tr:only-child th {\n",
       "        text-align: right;\n",
       "    }\n",
       "\n",
       "    .dataframe thead th {\n",
       "        text-align: left;\n",
       "    }\n",
       "\n",
       "    .dataframe tbody tr th {\n",
       "        vertical-align: top;\n",
       "    }\n",
       "</style>\n",
       "<table border=\"1\" class=\"dataframe\">\n",
       "  <thead>\n",
       "    <tr style=\"text-align: right;\">\n",
       "      <th></th>\n",
       "      <th>loan_amount</th>\n",
       "      <th>num_tags</th>\n",
       "      <th>days_to_fund</th>\n",
       "      <th>days_to_expire</th>\n",
       "      <th>posted_date_unix</th>\n",
       "      <th>married</th>\n",
       "      <th>posted_month</th>\n",
       "      <th>age_int</th>\n",
       "      <th>children_int</th>\n",
       "      <th>posted_month</th>\n",
       "      <th>posted_year</th>\n",
       "      <th>married</th>\n",
       "      <th>kids</th>\n",
       "      <th>video</th>\n",
       "      <th>num_posted</th>\n",
       "      <th>partner_loans_posted</th>\n",
       "      <th>partner_delinquency_rate</th>\n",
       "      <th>age_int</th>\n",
       "      <th>partner_loans_posted</th>\n",
       "      <th>tag_#Woman Owned Biz</th>\n",
       "      <th>tag_#Parent</th>\n",
       "      <th>tag_user_favorite</th>\n",
       "      <th>tag_#Repeat Borrower</th>\n",
       "      <th>tag_#Schooling</th>\n",
       "      <th>tag_volunteer_pick</th>\n",
       "      <th>tag_#Vegan</th>\n",
       "      <th>tag_volunteer_like</th>\n",
       "      <th>tag_#Animals</th>\n",
       "      <th>tag_#Eco-friendly</th>\n",
       "      <th>tag_#Technology</th>\n",
       "      <th>activity_Farming</th>\n",
       "      <th>activity_Dairy</th>\n",
       "      <th>activity_Fruits &amp; Vegetables</th>\n",
       "      <th>activity_Agriculture</th>\n",
       "      <th>activity_Retail</th>\n",
       "      <th>activity_General Store</th>\n",
       "      <th>activity_Clothing Sales</th>\n",
       "      <th>activity_Poultry</th>\n",
       "      <th>activity_Cereals</th>\n",
       "      <th>activity_Food Stall</th>\n",
       "      <th>sector_Agriculture</th>\n",
       "      <th>sector_Food</th>\n",
       "      <th>sector_Retail</th>\n",
       "      <th>sector_Services</th>\n",
       "      <th>sector_Clothing</th>\n",
       "      <th>sector_Transportation</th>\n",
       "      <th>sector_Personal Use</th>\n",
       "      <th>sector_Education</th>\n",
       "      <th>sector_Construction</th>\n",
       "      <th>sector_Health</th>\n",
       "      <th>county_mombasa</th>\n",
       "      <th>county_nakuru</th>\n",
       "      <th>county_nairobi</th>\n",
       "      <th>county_kwale</th>\n",
       "      <th>county_bungoma</th>\n",
       "      <th>county_kisii</th>\n",
       "      <th>county_trans nzoia</th>\n",
       "      <th>county_kiambu</th>\n",
       "      <th>county_uasin</th>\n",
       "      <th>county_kisumu</th>\n",
       "      <th>province_rift valley</th>\n",
       "      <th>province_coast</th>\n",
       "      <th>province_nyanza</th>\n",
       "      <th>province_western</th>\n",
       "      <th>province_eastern</th>\n",
       "      <th>province_nairobi</th>\n",
       "      <th>province_central</th>\n",
       "      <th>gender_Female</th>\n",
       "      <th>gender_Male</th>\n",
       "      <th>top_partner_other</th>\n",
       "      <th>top_partner_VisionFund Kenya</th>\n",
       "      <th>top_partner_Yehu Microfinance Trust</th>\n",
       "      <th>top_partner_SMEP Microfinance Bank</th>\n",
       "      <th>top_partner_Juhudi Kilimo</th>\n",
       "      <th>top_partner_Faulu Kenya</th>\n",
       "    </tr>\n",
       "  </thead>\n",
       "  <tbody>\n",
       "    <tr>\n",
       "      <th>0</th>\n",
       "      <td>150</td>\n",
       "      <td>1</td>\n",
       "      <td>0.0</td>\n",
       "      <td>30.0</td>\n",
       "      <td>1.494191e+09</td>\n",
       "      <td>0</td>\n",
       "      <td>5</td>\n",
       "      <td>29.558037</td>\n",
       "      <td>0.0</td>\n",
       "      <td>5</td>\n",
       "      <td>2017</td>\n",
       "      <td>0</td>\n",
       "      <td>1</td>\n",
       "      <td>False</td>\n",
       "      <td>663</td>\n",
       "      <td>18150.0</td>\n",
       "      <td>2.536684</td>\n",
       "      <td>29.558037</td>\n",
       "      <td>18150.0</td>\n",
       "      <td>0</td>\n",
       "      <td>1</td>\n",
       "      <td>0</td>\n",
       "      <td>0</td>\n",
       "      <td>1</td>\n",
       "      <td>0</td>\n",
       "      <td>0</td>\n",
       "      <td>0</td>\n",
       "      <td>0</td>\n",
       "      <td>0</td>\n",
       "      <td>0</td>\n",
       "      <td>0</td>\n",
       "      <td>0</td>\n",
       "      <td>0</td>\n",
       "      <td>0</td>\n",
       "      <td>0</td>\n",
       "      <td>0</td>\n",
       "      <td>0</td>\n",
       "      <td>0</td>\n",
       "      <td>0</td>\n",
       "      <td>0</td>\n",
       "      <td>0</td>\n",
       "      <td>0</td>\n",
       "      <td>0</td>\n",
       "      <td>0</td>\n",
       "      <td>0</td>\n",
       "      <td>0</td>\n",
       "      <td>0</td>\n",
       "      <td>1</td>\n",
       "      <td>0</td>\n",
       "      <td>0</td>\n",
       "      <td>0</td>\n",
       "      <td>0</td>\n",
       "      <td>0</td>\n",
       "      <td>0</td>\n",
       "      <td>0</td>\n",
       "      <td>0</td>\n",
       "      <td>0</td>\n",
       "      <td>0</td>\n",
       "      <td>0</td>\n",
       "      <td>0</td>\n",
       "      <td>1</td>\n",
       "      <td>0</td>\n",
       "      <td>0</td>\n",
       "      <td>0</td>\n",
       "      <td>0</td>\n",
       "      <td>0</td>\n",
       "      <td>0</td>\n",
       "      <td>1</td>\n",
       "      <td>0</td>\n",
       "      <td>0</td>\n",
       "      <td>0</td>\n",
       "      <td>0</td>\n",
       "      <td>0</td>\n",
       "      <td>1</td>\n",
       "      <td>0</td>\n",
       "    </tr>\n",
       "  </tbody>\n",
       "</table>\n",
       "</div>"
      ],
      "text/plain": [
       "   loan_amount  num_tags  days_to_fund  days_to_expire  posted_date_unix  \\\n",
       "0          150         1           0.0            30.0      1.494191e+09   \n",
       "\n",
       "   married  posted_month    age_int  children_int  posted_month  posted_year  \\\n",
       "0        0             5  29.558037           0.0             5         2017   \n",
       "\n",
       "   married  kids  video  num_posted  partner_loans_posted  \\\n",
       "0        0     1  False         663               18150.0   \n",
       "\n",
       "   partner_delinquency_rate    age_int  partner_loans_posted  \\\n",
       "0                  2.536684  29.558037               18150.0   \n",
       "\n",
       "   tag_#Woman Owned Biz  tag_#Parent  tag_user_favorite  tag_#Repeat Borrower  \\\n",
       "0                     0            1                  0                     0   \n",
       "\n",
       "   tag_#Schooling  tag_volunteer_pick  tag_#Vegan  tag_volunteer_like  \\\n",
       "0               1                   0           0                   0   \n",
       "\n",
       "   tag_#Animals  tag_#Eco-friendly  tag_#Technology  activity_Farming  \\\n",
       "0             0                  0                0                 0   \n",
       "\n",
       "   activity_Dairy  activity_Fruits & Vegetables  activity_Agriculture  \\\n",
       "0               0                             0                     0   \n",
       "\n",
       "   activity_Retail  activity_General Store  activity_Clothing Sales  \\\n",
       "0                0                       0                        0   \n",
       "\n",
       "   activity_Poultry  activity_Cereals  activity_Food Stall  \\\n",
       "0                 0                 0                    0   \n",
       "\n",
       "   sector_Agriculture  sector_Food  sector_Retail  sector_Services  \\\n",
       "0                   0            0              0                0   \n",
       "\n",
       "   sector_Clothing  sector_Transportation  sector_Personal Use  \\\n",
       "0                0                      0                    0   \n",
       "\n",
       "   sector_Education  sector_Construction  sector_Health  county_mombasa  \\\n",
       "0                 1                    0              0               0   \n",
       "\n",
       "   county_nakuru  county_nairobi  county_kwale  county_bungoma  county_kisii  \\\n",
       "0              0               0             0               0             0   \n",
       "\n",
       "   county_trans nzoia  county_kiambu  county_uasin  county_kisumu  \\\n",
       "0                   0              0             0              0   \n",
       "\n",
       "   province_rift valley  province_coast  province_nyanza  province_western  \\\n",
       "0                     1               0                0                 0   \n",
       "\n",
       "   province_eastern  province_nairobi  province_central  gender_Female  \\\n",
       "0                 0                 0                 0              1   \n",
       "\n",
       "   gender_Male  top_partner_other  top_partner_VisionFund Kenya  \\\n",
       "0            0                  0                             0   \n",
       "\n",
       "   top_partner_Yehu Microfinance Trust  top_partner_SMEP Microfinance Bank  \\\n",
       "0                                    0                                   0   \n",
       "\n",
       "   top_partner_Juhudi Kilimo  top_partner_Faulu Kenya  \n",
       "0                          1                        0  "
      ]
     },
     "execution_count": 25,
     "metadata": {},
     "output_type": "execute_result"
    }
   ],
   "source": [
    "rf_trainArr.head(1)"
   ]
  },
  {
   "cell_type": "code",
   "execution_count": 28,
   "metadata": {},
   "outputs": [
    {
     "name": "stdout",
     "output_type": "stream",
     "text": [
      "                            OLS Regression Results                            \n",
      "==============================================================================\n",
      "Dep. Variable:            loan_amount   R-squared:                       0.004\n",
      "Model:                            OLS   Adj. R-squared:                  0.004\n",
      "Method:                 Least Squares   F-statistic:                     129.5\n",
      "Date:                Tue, 06 Jun 2017   Prob (F-statistic):           5.87e-30\n",
      "Time:                        13:49:52   Log-Likelihood:            -2.5422e+05\n",
      "No. Observations:               34279   AIC:                         5.085e+05\n",
      "Df Residuals:                   34277   BIC:                         5.085e+05\n",
      "Df Model:                           1                                         \n",
      "Covariance Type:            nonrobust                                         \n",
      "===============================================================================\n",
      "                  coef    std err          t      P>|t|      [0.025      0.975]\n",
      "-------------------------------------------------------------------------------\n",
      "Intercept     446.8321      2.587    172.736      0.000     441.762     451.902\n",
      "gender_Male    54.2836      4.770     11.381      0.000      44.935      63.632\n",
      "==============================================================================\n",
      "Omnibus:                    36279.821   Durbin-Watson:                   1.326\n",
      "Prob(Omnibus):                  0.000   Jarque-Bera (JB):          3599244.190\n",
      "Skew:                           5.252   Prob(JB):                         0.00\n",
      "Kurtosis:                      52.088   Cond. No.                         2.43\n",
      "==============================================================================\n",
      "\n",
      "Warnings:\n",
      "[1] Standard Errors assume that the covariance matrix of the errors is correctly specified.\n"
     ]
    }
   ],
   "source": [
    "model0 = sm.ols(formula=\"loan_amount ~ gender_Male\", data=rf_trainArr).fit()\n",
    "print(model0.summary())"
   ]
  },
  {
   "cell_type": "markdown",
   "metadata": {},
   "source": [
    "This is the typical regression output. It's a lot to digest! Remember that our simple model can be represented as a linear equation, like this: \n",
    "\n",
    "    loan_amount = intercept + coef*male\n",
    "\n",
    "Therefore, these results can be translated as follows: \n",
    "\n",
    "    loan_amount = 504.29 + 70.89*male\n",
    "    \n",
    "Let's state the results. Regardless of gender the predicted loan amount is 424 dollars. However, if the lender is a man the loan amount increases by 110 dollars. This is consistent with our earlier explanatory analysis. How do we know however, whether this is a significant result?\n",
    "\n",
    "We have a sufficient amount of confidence in this conclusion because the **p-value** is reported to be 0.000. In technical terms, the p-value is **the probability of getting results as extreme as the ones observed. **\n",
    "\n",
    "In statistics, we want our results to fall within the 95% confidence interval, or the p-value to be <= 0.05. This means, \"[i]f repeated samples were taken and the 95% confidence interval was computed for each sample, 95% of the intervals would contain the population mean. A 95% confidence interval has a 0.95 probability of containing the population mean. 95% of the population distribution is contained in the confidence interval.\" [Read more here.](http://www.investopedia.com/terms/s/standard-error.asp) The p-value is an indicator of where we fall in the confidence interval. In English, small p-value (<= 0.05) indicates strong evidence that the coefficient is different than 0. \n",
    "\n",
    "This is a relatively simplified explanation of p-values. Don't worry if it's not immediately intuitive - [not even professional statisticians can easily explain this concept.](http://fivethirtyeight.com/features/not-even-scientists-can-easily-explain-p-values/) To get a deeper understanding, we recommend grabbing the nearest textbook on statistics to review! \n",
    "\n",
    "Note also that the Adjusted R Squared is extremely low. To recap lessons from Module 2, the Adjusted R Squared is an explanation of how much of the outcome feature can be explained by the model's explanatory features. This low Adj R Squared suggests that the predictive value of male is pretty low - it cannot be used as the single feature to predict loan_amount. \n",
    "\n",
    "This result is in line with our understanding of the world - there must be other factors influencing loan_amount. Let's try complicating the model by adding more explanatory features. **But which ones?** Let's switch to scikit learn"
   ]
  },
  {
   "cell_type": "markdown",
   "metadata": {},
   "source": [
    "## Setting up Test and Training Data Set\n",
    "The next stage is training and testing the algorithm on predicting the loan amount! To do this we need to create four subsets of data:\n",
    "- X_train: the features to train the algorithm\n",
    "- y_train: the true value of target feature associated with the training features - In this case, these are the loan amounts\n",
    "- X_test: the features to test the algorithm\n",
    "- y_test: the true value of the target features associated with the testing geatures - again, in this case, these are the loan amounts\n",
    "\n",
    "To do this we will use the sklearn model selection function **train_test_split**. If you look back to the top of this page, we imported this function at the beginning of the notebook.\n",
    "\n",
    "The names used below (X_train, X_test, y_train, y_test) are the conventions for training and testing data so best to try and train yourselves to use them."
   ]
  },
  {
   "cell_type": "code",
   "execution_count": 26,
   "metadata": {
    "collapsed": true
   },
   "outputs": [],
   "source": [
    "# create a training array = all the features but not the target and a training test array = the results of the target variable for the training array\n",
    "rf_trainRes = rf_trainArr['loan_amount']\n",
    "rf_trainArr = rf_trainArr.drop('loan_amount', axis=1)"
   ]
  },
  {
   "cell_type": "code",
   "execution_count": 27,
   "metadata": {
    "collapsed": true
   },
   "outputs": [],
   "source": [
    "X_train, X_test, y_train, y_test = train_test_split(rf_trainArr, rf_trainRes, test_size=0.2, random_state=42)"
   ]
  },
  {
   "cell_type": "markdown",
   "metadata": {},
   "source": [
    "## Linear Regression with Scikit Learn"
   ]
  },
  {
   "cell_type": "code",
   "execution_count": 28,
   "metadata": {},
   "outputs": [
    {
     "name": "stdout",
     "output_type": "stream",
     "text": [
      "LinearRegression(copy_X=True, fit_intercept=True, n_jobs=1, normalize=False)\n"
     ]
    }
   ],
   "source": [
    "# Linear Regression\n",
    "\n",
    "# Create linear regression object\n",
    "regr = linear_model.LinearRegression()\n",
    "\n",
    "# Train the model using the training sets\n",
    "model1 = regr.fit(X_train, y_train)\n",
    "\n",
    "print(model1)"
   ]
  },
  {
   "cell_type": "markdown",
   "metadata": {},
   "source": [
    "Now we print the coefficients to ensure that the outputs are the same as the ones we've gotten when we ran statsmodel. "
   ]
  },
  {
   "cell_type": "code",
   "execution_count": 29,
   "metadata": {},
   "outputs": [
    {
     "name": "stdout",
     "output_type": "stream",
     "text": [
      "Coefficients: \n",
      " [ -9.03467831e-01   1.12623500e+01   3.46166721e+00   8.85628076e-06\n",
      "  -7.00789383e+00  -1.74019501e+01  -1.49031085e-01  -6.89993134e-01\n",
      "  -1.74019488e+01  -3.35150570e+02  -7.00789377e+00   4.02376934e+00\n",
      "  -1.76450212e+02  -6.47912048e-02   2.81350476e-02   1.80575472e+01\n",
      "  -1.49031361e-01   2.81353214e-02   3.20134632e+01   8.06096373e+00\n",
      "   1.20302007e+02   5.48308074e+01  -5.57945941e+00   3.13603135e+01\n",
      "  -1.91406855e+01   3.20809359e+01  -2.94284060e+01   1.04027915e+01\n",
      "  -1.58451563e+02  -2.59105531e+01   1.23697857e+00   1.57992812e+00\n",
      "  -9.58393063e+00  -3.98690588e+01  -2.66725119e+01   9.88549357e+00\n",
      "  -5.71743794e+01   1.70923452e+00  -8.30271170e+00  -4.27245630e+01\n",
      "  -1.39962922e+02  -1.03006580e+02  -9.02680468e+01  -1.51813122e+02\n",
      "  -8.09926642e+01  -1.22192332e+02   3.53727642e+01  -1.64337947e+01\n",
      "   6.22964643e+02   3.10440815e+01  -7.74046311e+00   3.47956954e+00\n",
      "   8.46866234e+00  -3.08178408e+01  -2.51526205e+01  -1.66183950e+01\n",
      "  -1.43776129e+01  -2.53536887e+01   2.55529091e+01   5.51187034e+00\n",
      "  -1.44063162e+01  -2.63743086e+01   4.25995335e+01  -9.92595590e+00\n",
      "   3.47956954e+00  -8.84392738e-01   2.10051443e+01  -2.10051443e+01\n",
      "   8.86888101e+02  -9.56942932e+02  -2.94536509e+02  -1.98998144e+02\n",
      "  -6.25493316e+01   6.26138815e+02]\n"
     ]
    }
   ],
   "source": [
    "# The coefficients\n",
    "print('Coefficients: \\n', regr.coef_)"
   ]
  },
  {
   "cell_type": "markdown",
   "metadata": {},
   "source": [
    "With scikit-learn, we're able to generate some exciting new metrics using our test_set that we created earlier on in the code. First, let's take a look at the predicted value of y, and the true y.  "
   ]
  },
  {
   "cell_type": "code",
   "execution_count": 30,
   "metadata": {},
   "outputs": [
    {
     "data": {
      "text/plain": [
       "38354    105.498096\n",
       "Name: loan_amount, dtype: float64"
      ]
     },
     "execution_count": 30,
     "metadata": {},
     "output_type": "execute_result"
    }
   ],
   "source": [
    "#predicted y: \n",
    "predicted_y = regr.predict(X_test)\n",
    "\n",
    "#Let's calculate the difference! \n",
    "y_diff = abs(y_test - predicted_y)\n",
    "y_diff[:1]"
   ]
  },
  {
   "cell_type": "markdown",
   "metadata": {},
   "source": [
    "This is interesting, but the absolute value of the difference between predicted and true Y doesn't tell us too much on its own. However, it is used as an input in calculating many statistical measures of fit. Let's take a look: "
   ]
  },
  {
   "cell_type": "markdown",
   "metadata": {},
   "source": [
    "[Mean Absolute Error](https://www.kaggle.com/wiki/MeanAbsoluteError)\n",
    "\n",
    "The mean absolute error is calculated as the mean of the distance between predicted and true Y. We take the absolute value of (predicted Y - true Y) so we capture the concept of distance for each observation. Then we take the mean over all observations to get a sense of the entire model. The closer the final statistic is to 0, the better."
   ]
  },
  {
   "cell_type": "code",
   "execution_count": 31,
   "metadata": {},
   "outputs": [
    {
     "name": "stdout",
     "output_type": "stream",
     "text": [
      "Mean absolute error: 191.83\n"
     ]
    }
   ],
   "source": [
    "print(\"Mean absolute error: %.2f\"\n",
    "     % np.mean(y_diff))"
   ]
  },
  {
   "cell_type": "markdown",
   "metadata": {},
   "source": [
    "[Root Mean Squared Error](https://www.kaggle.com/wiki/RootMeanSquaredError)\n",
    "\n",
    "The root mean squared error is calculated as the square root of the mean of the difference between predicted and true Y squared. This is a little more complicated to interpret than the MAE, but a useful indication of fit. Like the MAE, the closer this final statistic is to 0, the better.  \n",
    "\n",
    "We use both RMSE and MAE in practice. See [this blog post](https://medium.com/human-in-a-machine-world/mae-and-rmse-which-metric-is-better-e60ac3bde13d) for a discussion of the difference between the two metrics."
   ]
  },
  {
   "cell_type": "code",
   "execution_count": 32,
   "metadata": {},
   "outputs": [
    {
     "name": "stdout",
     "output_type": "stream",
     "text": [
      "Root mean squared error: 351.44\n"
     ]
    }
   ],
   "source": [
    "print(\"Root mean squared error: %.2f\"\n",
    "      % np.sqrt(np.mean((y_diff) ** 2)))"
   ]
  },
  {
   "cell_type": "markdown",
   "metadata": {},
   "source": [
    "CK: This statement is not as clear as per the above output. \n",
    "\n",
    "Logically, the Root Mean Squared error is the inverse of the R-squared; In other words, it is a measure of how much of our outcome variable is left **unexplained** by the model we generated, whereas the R-squared is a measure of how much our model **explains** the variation. It therefore makes sense that the values we obtain roughly add up to 1 (0.64 RMSE and 0.35 R-squared)"
   ]
  },
  {
   "cell_type": "markdown",
   "metadata": {},
   "source": [
    "## Finally, we use sci-kit learn scoring of the model. We will compare this with decision tree next."
   ]
  },
  {
   "cell_type": "code",
   "execution_count": 33,
   "metadata": {},
   "outputs": [
    {
     "name": "stdout",
     "output_type": "stream",
     "text": [
      "Train score: 0.324209862796\n",
      "Test score: 0.32273434354\n"
     ]
    }
   ],
   "source": [
    "# Step 3: Calculating the score of the predictive power on the training and testing dataset.\n",
    "linear_training_score = model1.score(X_train, y_train)\n",
    "linear_testing_score = model1.score(X_test, y_test)\n",
    "print(\"Train score: \" + str(linear_training_score))\n",
    "print(\"Test score: \" + str(linear_testing_score))"
   ]
  },
  {
   "cell_type": "markdown",
   "metadata": {},
   "source": [
    "## We can plot how well we did at predicting!"
   ]
  },
  {
   "cell_type": "code",
   "execution_count": 34,
   "metadata": {},
   "outputs": [
    {
     "data": {
      "text/plain": [
       "<matplotlib.collections.PathCollection at 0x490072e160>"
      ]
     },
     "execution_count": 34,
     "metadata": {},
     "output_type": "execute_result"
    },
    {
     "data": {
      "text/plain": [
       "<matplotlib.text.Text at 0x49006d1a20>"
      ]
     },
     "execution_count": 34,
     "metadata": {},
     "output_type": "execute_result"
    },
    {
     "data": {
      "text/plain": [
       "<matplotlib.text.Text at 0x49006e0320>"
      ]
     },
     "execution_count": 34,
     "metadata": {},
     "output_type": "execute_result"
    },
    {
     "data": {
      "text/plain": [
       "<matplotlib.text.Text at 0x49006f31d0>"
      ]
     },
     "execution_count": 34,
     "metadata": {},
     "output_type": "execute_result"
    },
    {
     "data": {
      "image/png": "[encoded data removed]",
      "text/plain": [
       "<matplotlib.figure.Figure at 0x490071df98>"
      ]
     },
     "metadata": {},
     "output_type": "display_data"
    }
   ],
   "source": [
    "# plotting a grpah of the true values vs the predicted values for the training and test datasets\n",
    "linear_y_predicted_train = model1.predict(X_train)\n",
    "fig = plt.figure(figsize=(7, 7))\n",
    "plt.scatter(y_train, linear_y_predicted_train, alpha=0.5)\n",
    "plt.xlabel('True value')\n",
    "plt.ylabel('Predicted value')\n",
    "plt.title(\"Graph showing the relationship between the true loan amount and the predicted loan amount for the training dataset\")\n",
    "plt.show()"
   ]
  },
  {
   "cell_type": "code",
   "execution_count": 35,
   "metadata": {},
   "outputs": [
    {
     "data": {
      "text/plain": [
       "<matplotlib.collections.PathCollection at 0x490075a208>"
      ]
     },
     "execution_count": 35,
     "metadata": {},
     "output_type": "execute_result"
    },
    {
     "data": {
      "text/plain": [
       "<matplotlib.text.Text at 0x490068dd30>"
      ]
     },
     "execution_count": 35,
     "metadata": {},
     "output_type": "execute_result"
    },
    {
     "data": {
      "text/plain": [
       "<matplotlib.text.Text at 0x490f037668>"
      ]
     },
     "execution_count": 35,
     "metadata": {},
     "output_type": "execute_result"
    },
    {
     "data": {
      "text/plain": [
       "<matplotlib.text.Text at 0x490f017b70>"
      ]
     },
     "execution_count": 35,
     "metadata": {},
     "output_type": "execute_result"
    },
    {
     "data": {
      "image/png": "[encoded data removed]",
      "text/plain": [
       "<matplotlib.figure.Figure at 0x491d875a58>"
      ]
     },
     "metadata": {},
     "output_type": "display_data"
    }
   ],
   "source": [
    "# plotting a grpah of the true values vs the predicted values for the training and test datasets\n",
    "linear_y_predicted_test = model1.predict(X_test)\n",
    "fig = plt.figure(figsize=(7, 7))\n",
    "plt.scatter(y_test, linear_y_predicted_test, alpha=0.5)\n",
    "plt.xlabel('True value')\n",
    "plt.ylabel('Predicted value')\n",
    "plt.title(\"Graph showing the relationship between the true loan amount and the predicted loan amount for the test dataset\")\n",
    "plt.show()"
   ]
  },
  {
   "cell_type": "markdown",
   "metadata": {},
   "source": [
    "## Decision Tree and Random Forest\n",
    "\n",
    "\n",
    "As you learned in the class, decision trees can be used to predict and classify data features. To improve on the simple decision tree, we can use ensemble methods such as Bagging and Random Forest. In an Ensemble approach, the algorithm acts as a group of experts analysing your data and the results is the aggregation of those individual analyses. \n",
    "\n",
    "A quick refresher on Bagging\n",
    "- Grow multiple decisions of random subsets of the data\n",
    "- All features are considered at every split in the decision tree\n",
    "- The result is the average prediction of all trees\n",
    "\n",
    "A quick refresher on the Random Forest theory:\n",
    "- Random Forest is based on Decision Trees -> many trees = a forest!\n",
    "- Grows multiple trees on random subsets of the parent dataset\n",
    "- **At every split, a new random subset of features is chosen**\n",
    "- This leads to \"decorrelated\" trees which leads to a large increase in performance!\n",
    "\n",
    "\n",
    "Now we will compare linear regressions to decision trees and random forest. We will use the same features and will be predicting the same outcome feature loan_amount.\n",
    "\n",
    "** we will be looking at how we can predict the loan amount using decision trees, bagged decisions trees and the random forest algorithm.**\n",
    "\n",
    "However, it is worth mentioning that these methods can also be used to classify data, for example some interesting classification questions we could investigate are:\n",
    "- Can we classify which loans expired and which one got funded?\n",
    "- Is a loan posted by a male or female?\n",
    "\n",
    "Feel free to investigate these on your own time! Here is a very simple example of how the RandomForestClassifier works: https://bicorner.com/2015/10/26/random-forest-using-ipython/"
   ]
  },
  {
   "cell_type": "markdown",
   "metadata": {},
   "source": [
    "One of the advantages of the RandomForest algorithms is that we can pass through a whole range of features, regardless of whether we believe there is a linear relationship between the target (loan amount) and the feature and then find out which features have the highest influence. Remember from the course notes, the RandomForest Algorithms are based on the concept of decision trees where the set of all possible values are split into non-overlapping groups. \n",
    "\n",
    "This can be really powerful tool as it requires less initial investigation and analysis than a regression analysis."
   ]
  },
  {
   "cell_type": "markdown",
   "metadata": {},
   "source": [
    "Step by Step approach to modeling:\n",
    "\n",
    "For the following methods used, there is some standard steps used to implement the algorithms. A simple overvew of these steps are:\n",
    "- **Step 1: Initiate the algorithm** This is where we define the parameters (& hyperparameters of the algorithm) of the algorithm. For example, this is where we would define the maximum depth, the minimum samples in a leaf etc. To learn more about the parameters for each algorithm, either check the module documentation on the internet or run a cell with the algorithm name followed by ? as we did at the beginning of this notebook for the RandomForestRegressor. These resources will also tell you the default values used for each parameter. \n",
    "- **Step 2: Train the algorithm** This is where we train the algorithm by fitting it to the X_train and y_train datasets. \n",
    "- **Step 3: Evaluating the algorithm** This is where we evaluate the predictive power of the algorithm by comparing the predictive loan amount values to the true values. We can do this for the training and testing dataset."
   ]
  },
  {
   "cell_type": "markdown",
   "metadata": {},
   "source": [
    "Let's start with **loan amount** and see if we can predict how much is requested to be funded using the decision trees and ensemble methods! "
   ]
  },
  {
   "cell_type": "markdown",
   "metadata": {},
   "source": [
    "### Decision Tree\n",
    "Before we get into some of the more sophisticated models, let's first try an individual Decision Tree and see how it performs.  After training the model, we will be able to assess it's performance by using sklearns useful method .score, which calculates the r2 value for the data provided.  We will first print out the r2 score for the training data, and then will print out the r2 score for the test data."
   ]
  },
  {
   "cell_type": "code",
   "execution_count": 36,
   "metadata": {},
   "outputs": [
    {
     "data": {
      "text/plain": [
       "DecisionTreeRegressor(criterion='mse', max_depth=None, max_features=None,\n",
       "           max_leaf_nodes=None, min_impurity_split=1e-07,\n",
       "           min_samples_leaf=1, min_samples_split=2,\n",
       "           min_weight_fraction_leaf=0.0, presort=False, random_state=0,\n",
       "           splitter='best')"
      ]
     },
     "execution_count": 36,
     "metadata": {},
     "output_type": "execute_result"
    },
    {
     "name": "stdout",
     "output_type": "stream",
     "text": [
      "Train score: 0.999421573638\n",
      "Test score: 0.472329355373\n"
     ]
    }
   ],
   "source": [
    "from sklearn.tree import DecisionTreeRegressor\n",
    "# Step 1: Initiating the DecisionTreeRegressor algorithm\n",
    "decision_regressor = DecisionTreeRegressor(random_state=0)\n",
    "# Step 2: Training the algorithm using the X_train dataset of features and y_train, the associated target features\n",
    "decision_regressor.fit(X_train, y_train)\n",
    "# Step 3: Calculating the score of the predictive power on the training and testing dataset.\n",
    "dt_training_score = decision_regressor.score(X_train, y_train)\n",
    "dt_testing_score = decision_regressor.score(X_test, y_test)\n",
    "print(\"Train score: \" + str(dt_training_score))\n",
    "print(\"Test score: \" + str(dt_testing_score))"
   ]
  },
  {
   "cell_type": "markdown",
   "metadata": {},
   "source": [
    "From the scores above (the R^2 of the regression between true and predicted loan amounts), we can see that the decision tree works very well on the training dataset, as expected. However, when applied to the testing dataset, it performs much worse. \n",
    "\n",
    "The R^2 number above are pretty telling but it is always nice to visualise how these look in a scattor plot. This allows us to visualise the variation between the predicted loan amount and the true loan amount values. "
   ]
  },
  {
   "cell_type": "code",
   "execution_count": 37,
   "metadata": {},
   "outputs": [
    {
     "data": {
      "text/plain": [
       "<matplotlib.collections.PathCollection at 0x491f3bc7b8>"
      ]
     },
     "execution_count": 37,
     "metadata": {},
     "output_type": "execute_result"
    },
    {
     "data": {
      "text/plain": [
       "<matplotlib.text.Text at 0x490f03c7b8>"
      ]
     },
     "execution_count": 37,
     "metadata": {},
     "output_type": "execute_result"
    },
    {
     "data": {
      "text/plain": [
       "<matplotlib.text.Text at 0x49007562b0>"
      ]
     },
     "execution_count": 37,
     "metadata": {},
     "output_type": "execute_result"
    },
    {
     "data": {
      "text/plain": [
       "<matplotlib.text.Text at 0x491d14af60>"
      ]
     },
     "execution_count": 37,
     "metadata": {},
     "output_type": "execute_result"
    },
    {
     "data": {
      "image/png": "[encoded data removed]",
      "text/plain": [
       "<matplotlib.figure.Figure at 0x491d126128>"
      ]
     },
     "metadata": {},
     "output_type": "display_data"
    }
   ],
   "source": [
    "# plotting a grpah of the true values vs the predicted values for the training and test datasets\n",
    "dt_y_predicted_train = decision_regressor.predict(X_train)\n",
    "fig = plt.figure(figsize=(7, 7))\n",
    "plt.scatter(y_train, dt_y_predicted_train, alpha=0.5)\n",
    "plt.xlabel('True value')\n",
    "plt.ylabel('Predicted value')\n",
    "plt.title(\"Graph showing the relationship between the true loan amount and the predicted loan amount for the training dataset\")\n",
    "plt.show()"
   ]
  },
  {
   "cell_type": "code",
   "execution_count": 38,
   "metadata": {},
   "outputs": [
    {
     "data": {
      "text/plain": [
       "<matplotlib.collections.PathCollection at 0x491d0113c8>"
      ]
     },
     "execution_count": 38,
     "metadata": {},
     "output_type": "execute_result"
    },
    {
     "data": {
      "text/plain": [
       "<matplotlib.text.Text at 0x490f035b38>"
      ]
     },
     "execution_count": 38,
     "metadata": {},
     "output_type": "execute_result"
    },
    {
     "data": {
      "text/plain": [
       "<matplotlib.text.Text at 0x491f397940>"
      ]
     },
     "execution_count": 38,
     "metadata": {},
     "output_type": "execute_result"
    },
    {
     "data": {
      "text/plain": [
       "<matplotlib.text.Text at 0x491cffeb70>"
      ]
     },
     "execution_count": 38,
     "metadata": {},
     "output_type": "execute_result"
    },
    {
     "data": {
      "image/png": "[encoded data removed]",
      "text/plain": [
       "<matplotlib.figure.Figure at 0x490071df60>"
      ]
     },
     "metadata": {},
     "output_type": "display_data"
    }
   ],
   "source": [
    "# plotting a grpah of the true values vs the predicted values for the training and test datasets\n",
    "dt_y_predicted_test = decision_regressor.predict(X_test)\n",
    "fig = plt.figure(figsize=(7, 7))\n",
    "plt.scatter(y_test, dt_y_predicted_test, alpha=0.5)\n",
    "plt.xlabel('True value')\n",
    "plt.ylabel('Predicted value')\n",
    "plt.title(\"Graph showing the relationship between the true loan amount and the predicted loan amount for the test dataset\")\n",
    "plt.show()"
   ]
  },
  {
   "cell_type": "markdown",
   "metadata": {},
   "source": [
    "The decison tree regressor is near perfect on the training data; however, much worse on the test data.  This is largely due to the likelihood an individual trees  of overfitting to the data. Remember overfitting can occur when the tree goes too deep, the minimum leaf sample if too small or the maximum number number of terminal nodes is too high. We can mitigate the impact of overfitting by tuning and optimising these hyperparameters. However, often it is very time consuming and difficult to find the optimal hyperparameters and therefore we look towards ensemble approaches for an easier, more general solution. \n",
    "\n",
    "## Bagging\n",
    "\n",
    "Another approach to overcome this is to build a collection of trees with sklearn's BaggingRegressor.  A bagging regressor builds some specified number of trees and trains each tree with a random subset of the data and then averages the forecast of each individual tree. \n",
    "\n",
    "This is an **Ensemble approach** where we use the results of several random analyses to find an average response. For each tree, there will be a sample of data which was not used to train the algorithm. This means that we can also measure the **out-of-bag** score ( or oob_score). This score calculates the error rate of the predictions on the sample not used while training an individual tree. (Remember a random ~2/3 of data are used to train a given tree)."
   ]
  },
  {
   "cell_type": "code",
   "execution_count": 39,
   "metadata": {},
   "outputs": [
    {
     "name": "stderr",
     "output_type": "stream",
     "text": [
      "C:\\Users\\g13k8050\\Anaconda2\\envs\\moringa\\lib\\site-packages\\sklearn\\ensemble\\bagging.py:986: UserWarning: Some inputs do not have OOB scores. This probably means too few estimators were used to compute any reliable oob estimates.\n",
      "  warn(\"Some inputs do not have OOB scores. \"\n"
     ]
    },
    {
     "data": {
      "text/plain": [
       "BaggingRegressor(base_estimator=None, bootstrap=True,\n",
       "         bootstrap_features=False, max_features=1.0, max_samples=1.0,\n",
       "         n_estimators=10, n_jobs=1, oob_score=True, random_state=None,\n",
       "         verbose=0, warm_start=False)"
      ]
     },
     "execution_count": 39,
     "metadata": {},
     "output_type": "execute_result"
    },
    {
     "name": "stdout",
     "output_type": "stream",
     "text": [
      "Train score: 0.937893765154\n",
      "Test score: 0.69118768946\n",
      "Oob score: 0.567216122723\n"
     ]
    }
   ],
   "source": [
    "from sklearn.ensemble import BaggingRegressor\n",
    "# Step 1: Initiating the bagging regressor algorithm\n",
    "bagging_regressor = BaggingRegressor(oob_score=True)\n",
    "# Step 2: Training the bagging regressor algorithm\n",
    "bagging_regressor.fit(X_train, y_train)\n",
    "# Step 3: Calculating the score of the predictive power on the training and testing dataset.\n",
    "br_training_score = bagging_regressor.score(X_train, y_train)\n",
    "br_testing_score = bagging_regressor.score(X_test, y_test)\n",
    "br_oob_score = bagging_regressor.oob_score_\n",
    "print(\"Train score: \" + str(br_training_score))\n",
    "print(\"Test score: \" + str(br_testing_score))\n",
    "print(\"Oob score: \" + str(br_oob_score))"
   ]
  },
  {
   "cell_type": "markdown",
   "metadata": {},
   "source": [
    "The results above show that the train R^2 score has reduced but the test R^2 score has increased. This is a good sign as it means that the algorithm is overfitting the training less and therefore improving its ability to predict the loan amounts on unseen samples. "
   ]
  },
  {
   "cell_type": "markdown",
   "metadata": {},
   "source": [
    "When comparing the different regression models, we will be looking at three main outputs:\n",
    "- Train score = R^2 between the predicted and true values for the training dataset\n",
    "- Test score = R^2 between the predicted and true values for the test dataset\n",
    "- Oob_score = the error rate of predicted values for data not used whilst training an individual tree\n",
    "\n",
    "Therefore, we are defining a function below that prints out these score's us"
   ]
  },
  {
   "cell_type": "code",
   "execution_count": 40,
   "metadata": {
    "collapsed": true
   },
   "outputs": [],
   "source": [
    "# Since we will evaluate a few models, let's define a function that prints out the scores we care about\n",
    "def print_scores(regressor, X_train, y_train, X_test, y_test, oob_score=True):\n",
    "    print(\"Train score: \" + str(regressor.score(X_train, y_train)))\n",
    "    print(\"Test score: \" + str(regressor.score(X_test, y_test)))\n",
    "    print(\"OOB score: \" + str(regressor.oob_score_))"
   ]
  },
  {
   "cell_type": "markdown",
   "metadata": {},
   "source": [
    "### Changing some model parameters\n",
    "\n",
    "CK: Parmeter optimization would help inprove in the accuraccy  of the model. "
   ]
  },
  {
   "cell_type": "markdown",
   "metadata": {},
   "source": [
    "The default number of trees used in the bagging regressor is 10. This means that the algorithms splits the dataset into 10 different tress, trains each one individually, predicts the result from each one individually and then averages the result. \n",
    "\n",
    "Let's see how performance changes when we increase the number of trees from 10 to 100."
   ]
  },
  {
   "cell_type": "code",
   "execution_count": 45,
   "metadata": {},
   "outputs": [
    {
     "data": {
      "text/plain": [
       "BaggingRegressor(base_estimator=None, bootstrap=True,\n",
       "         bootstrap_features=False, max_features=1.0, max_samples=1.0,\n",
       "         n_estimators=100, n_jobs=1, oob_score=True, random_state=None,\n",
       "         verbose=0, warm_start=False)"
      ]
     },
     "execution_count": 45,
     "metadata": {},
     "output_type": "execute_result"
    },
    {
     "name": "stdout",
     "output_type": "stream",
     "text": [
      "Train score: 0.955865231939\n",
      "Test score: 0.718162350759\n",
      "OOB score: 0.682791158997\n"
     ]
    }
   ],
   "source": [
    "# Step 1: Initiating the bagging regressor algorithm\n",
    "bagging_regressor = BaggingRegressor(n_estimators=100, oob_score=True)\n",
    "# Step 2: Training the bagging regressor algorithm\n",
    "bagging_regressor.fit(X_train, y_train)\n",
    "# Step 3: Calculating the score of the predictive power on the training and testing dataset.\n",
    "print_scores(bagging_regressor, X_train, y_train, X_test, y_test, oob_score=True)"
   ]
  },
  {
   "cell_type": "markdown",
   "metadata": {},
   "source": [
    "Here we see an improvement in all score and in particular the oob_score. This is telling us that splitting the dataset into more tree leads to a more accurate average predicton of the loan_amount. "
   ]
  },
  {
   "cell_type": "code",
   "execution_count": 42,
   "metadata": {},
   "outputs": [
    {
     "data": {
      "text/plain": [
       "<matplotlib.collections.PathCollection at 0x490efafc50>"
      ]
     },
     "execution_count": 42,
     "metadata": {},
     "output_type": "execute_result"
    },
    {
     "data": {
      "text/plain": [
       "<matplotlib.text.Text at 0x491cfeb550>"
      ]
     },
     "execution_count": 42,
     "metadata": {},
     "output_type": "execute_result"
    },
    {
     "data": {
      "text/plain": [
       "<matplotlib.text.Text at 0x491d0d46a0>"
      ]
     },
     "execution_count": 42,
     "metadata": {},
     "output_type": "execute_result"
    },
    {
     "data": {
      "text/plain": [
       "<matplotlib.text.Text at 0x491d0ec438>"
      ]
     },
     "execution_count": 42,
     "metadata": {},
     "output_type": "execute_result"
    },
    {
     "data": {
      "image/png": "[encoded data removed]",
      "text/plain": [
       "<matplotlib.figure.Figure at 0x491d899128>"
      ]
     },
     "metadata": {},
     "output_type": "display_data"
    }
   ],
   "source": [
    "# plotting a grpah of the true values vs the predicted values for the training and test datasets\n",
    "br_y_predicted_test = bagging_regressor.predict(X_test)\n",
    "fig = plt.figure(figsize=(7, 7))\n",
    "plt.scatter(y_test, br_y_predicted_test, alpha=0.5)\n",
    "plt.xlabel('True value')\n",
    "plt.ylabel('Predicted value')\n",
    "plt.title(\"Graph showing the relationship between the true loan amount and the predicted loan amount for the testing dataset\")\n",
    "plt.show()"
   ]
  },
  {
   "cell_type": "markdown",
   "metadata": {},
   "source": [
    "## Random Forest\n",
    "We still observe a large discrepancy between the training data and the test data.  This is largely because the decision trees are largely correlated, meaning that ubsets of the same data are probably going to split on the same features and result in very similar predictions.\n",
    "\n",
    "To de-correlate the trees, we can use a Random Forest Regressor, which only considers a random subsample of the features at each split."
   ]
  },
  {
   "cell_type": "markdown",
   "metadata": {},
   "source": [
    "Recall that the difference between the Bagging Regressor and the RandomForest is that in the RandomForest, at each split, a random subset of features is considered. The reducing the chance of correlation between the different trees. "
   ]
  },
  {
   "cell_type": "code",
   "execution_count": 43,
   "metadata": {},
   "outputs": [
    {
     "data": {
      "text/plain": [
       "RandomForestRegressor(bootstrap=True, criterion='mse', max_depth=None,\n",
       "           max_features='auto', max_leaf_nodes=None,\n",
       "           min_impurity_split=1e-07, min_samples_leaf=1,\n",
       "           min_samples_split=2, min_weight_fraction_leaf=0.0,\n",
       "           n_estimators=100, n_jobs=1, oob_score=True, random_state=None,\n",
       "           verbose=0, warm_start=False)"
      ]
     },
     "execution_count": 43,
     "metadata": {},
     "output_type": "execute_result"
    },
    {
     "name": "stdout",
     "output_type": "stream",
     "text": [
      "Train score: 0.956108889331\n",
      "Test score: 0.719810330662\n",
      "OOB score: 0.684896425956\n"
     ]
    }
   ],
   "source": [
    "# Step 1: Initiating the bagging regressor algorithm\n",
    "rf_regressor = RandomForestRegressor(n_estimators=100, oob_score=True)\n",
    "# Step 2: Training the bagging regressor algorithm\n",
    "rf_regressor.fit(X_train,y_train)\n",
    "# Step 3: Calculating the score of the predictive power on the training and testing dataset.\n",
    "print_scores(rf_regressor, X_train, y_train, X_test, y_test, oob_score=True)"
   ]
  },
  {
   "cell_type": "markdown",
   "metadata": {},
   "source": [
    "WOW! that was unexpected - there is very little change between the bagging regressor and the random forest algorithm. This indicates that the features we are using are already highly uncorrelated."
   ]
  },
  {
   "cell_type": "code",
   "execution_count": 46,
   "metadata": {},
   "outputs": [
    {
     "name": "stdout",
     "output_type": "stream",
     "text": [
      "Mean squared error between the predicted and true loan amounts: 51096 \n"
     ]
    },
    {
     "data": {
      "text/plain": [
       "<matplotlib.collections.PathCollection at 0x4904f35470>"
      ]
     },
     "execution_count": 46,
     "metadata": {},
     "output_type": "execute_result"
    },
    {
     "data": {
      "text/plain": [
       "<matplotlib.text.Text at 0x491d046eb8>"
      ]
     },
     "execution_count": 46,
     "metadata": {},
     "output_type": "execute_result"
    },
    {
     "data": {
      "text/plain": [
       "<matplotlib.text.Text at 0x491f90a588>"
      ]
     },
     "execution_count": 46,
     "metadata": {},
     "output_type": "execute_result"
    },
    {
     "data": {
      "text/plain": [
       "<matplotlib.text.Text at 0x491f933dd8>"
      ]
     },
     "execution_count": 46,
     "metadata": {},
     "output_type": "execute_result"
    },
    {
     "data": {
      "image/png": "[encoded data removed]",
      "text/plain": [
       "<matplotlib.figure.Figure at 0x4904fbe048>"
      ]
     },
     "metadata": {},
     "output_type": "display_data"
    }
   ],
   "source": [
    "rf_y_predicted_test = rf_regressor.predict(X_test)\n",
    "print(\"Mean squared error between the predicted and true loan amounts: %d \" % round(mean_squared_error(y_test, rf_y_predicted_test)))\n",
    "\n",
    "fig = plt.figure(figsize=(7, 7))\n",
    "plt.scatter(y_test, rf_y_predicted_test, alpha=0.5)\n",
    "plt.xlabel('True value')\n",
    "plt.ylabel('Predicted value')\n",
    "plt.title(\"Graph showing the relationship between the true loan amount and the predicted loan amount for the testing dataset\")\n",
    "plt.show()"
   ]
  },
  {
   "cell_type": "markdown",
   "metadata": {},
   "source": [
    "Now, let's try to figure out which features are driving our model's predictions.  Although we do not have the coefficients provided by a linear regression, we can analyze what percentage of the overall variance was explained by a given feature."
   ]
  },
  {
   "cell_type": "code",
   "execution_count": 49,
   "metadata": {
    "collapsed": true
   },
   "outputs": [],
   "source": [
    "?rf_regressor"
   ]
  },
  {
   "cell_type": "code",
   "execution_count": 55,
   "metadata": {},
   "outputs": [
    {
     "name": "stdout",
     "output_type": "stream",
     "text": [
      "Feature Ranking:\n",
      "1. feature posted_date_unix (0.259850)\n",
      "2. feature days_to_fund (0.099005)\n",
      "3. feature partner_loans_posted (0.094633)\n",
      "4. feature top_partner_other (0.072501)\n",
      "5. feature partner_loans_posted (0.071754)\n",
      "6. feature days_to_expire (0.051304)\n",
      "7. feature num_posted (0.029658)\n",
      "8. feature sector_Health (0.025510)\n",
      "9. feature children_int (0.021526)\n",
      "10. feature sector_Retail (0.018502)\n",
      "11. feature num_tags (0.017220)\n",
      "12. feature age_int (0.016391)\n",
      "13. feature age_int (0.016267)\n",
      "14. feature partner_delinquency_rate (0.011321)\n",
      "15. feature posted_year (0.010081)\n",
      "16. feature posted_month (0.009650)\n",
      "17. feature posted_month (0.009042)\n",
      "18. feature tag_#Repeat Borrower (0.007611)\n",
      "19. feature sector_Education (0.007363)\n",
      "20. feature tag_user_favorite (0.007054)\n",
      "21. feature tag_#Eco-friendly (0.006963)\n",
      "22. feature sector_Agriculture (0.006553)\n",
      "23. feature top_partner_Juhudi Kilimo (0.005644)\n",
      "24. feature gender_Male (0.004800)\n",
      "25. feature gender_Female (0.004705)\n",
      "26. feature province_rift valley (0.004577)\n",
      "27. feature sector_Personal Use (0.004547)\n",
      "28. feature tag_#Schooling (0.004465)\n",
      "29. feature county_mombasa (0.004301)\n",
      "30. feature province_coast (0.003963)\n",
      "31. feature activity_Farming (0.003961)\n",
      "32. feature kids (0.003892)\n",
      "33. feature county_nakuru (0.003863)\n",
      "34. feature married (0.003849)\n",
      "35. feature married (0.003828)\n",
      "36. feature tag_#Parent (0.003475)\n",
      "37. feature province_central (0.003419)\n",
      "38. feature province_nyanza (0.003302)\n",
      "39. feature province_eastern (0.003147)\n",
      "40. feature county_kwale (0.003076)\n",
      "41. feature province_western (0.002979)\n",
      "42. feature tag_#Woman Owned Biz (0.002977)\n",
      "43. feature sector_Services (0.002696)\n",
      "44. feature top_partner_Yehu Microfinance Trust (0.002647)\n",
      "45. feature county_kisumu (0.002484)\n",
      "46. feature county_nairobi (0.002409)\n",
      "47. feature province_nairobi (0.002345)\n",
      "48. feature county_bungoma (0.002269)\n",
      "49. feature tag_#Vegan (0.002260)\n",
      "50. feature sector_Food (0.002159)\n",
      "51. feature activity_Dairy (0.002139)\n",
      "52. feature tag_volunteer_pick (0.002112)\n",
      "53. feature county_trans nzoia (0.002095)\n",
      "54. feature county_kiambu (0.002044)\n",
      "55. feature sector_Transportation (0.002002)\n",
      "56. feature county_uasin (0.001970)\n",
      "57. feature tag_volunteer_like (0.001846)\n",
      "58. feature sector_Construction (0.001690)\n",
      "59. feature activity_Poultry (0.001667)\n",
      "60. feature tag_#Animals (0.001635)\n",
      "61. feature county_kisii (0.001491)\n",
      "62. feature activity_Agriculture (0.001430)\n",
      "63. feature top_partner_SMEP Microfinance Bank (0.001381)\n",
      "64. feature activity_Retail (0.001217)\n",
      "65. feature activity_General Store (0.001184)\n",
      "66. feature activity_Cereals (0.001077)\n",
      "67. feature activity_Fruits & Vegetables (0.001010)\n",
      "68. feature sector_Clothing (0.000996)\n",
      "69. feature top_partner_VisionFund Kenya (0.000901)\n",
      "70. feature activity_Clothing Sales (0.000766)\n",
      "71. feature tag_#Technology (0.000668)\n",
      "72. feature activity_Food Stall (0.000586)\n",
      "73. feature top_partner_Faulu Kenya (0.000261)\n",
      "74. feature video (0.000035)\n"
     ]
    }
   ],
   "source": [
    "importances = rf_regressor.feature_importances_\n",
    "indices = np.argsort(importances)[::-1]\n",
    "feature_imp = []\n",
    "print('Feature Ranking:')\n",
    "for f in range(len(importances)):\n",
    "    feature_imp.append([rf_trainArr.columns[indices[f]], importances[indices[f]]])\n",
    "    print(\"%d. feature %s (%f)\" % (f + 1, rf_trainArr.columns[indices[f]], importances[indices[f]]))"
   ]
  },
  {
   "cell_type": "code",
   "execution_count": 60,
   "metadata": {},
   "outputs": [],
   "source": [
    "#pd.DataFrame(feature_imp).sort_values(by=1, ascending=False)"
   ]
  },
  {
   "cell_type": "markdown",
   "metadata": {},
   "source": [
    "Lets visualise the impact of some of the top features:\n",
    "\n",
    "The borrower count is an intuitive feature; the more borrowers on the loan, the greater the loan will be. Lets look at this relationship again:"
   ]
  },
  {
   "cell_type": "code",
   "execution_count": 99,
   "metadata": {},
   "outputs": [
    {
     "data": {
      "text/plain": [
       "<matplotlib.collections.PathCollection at 0x1b3000b41d0>"
      ]
     },
     "execution_count": 99,
     "metadata": {},
     "output_type": "execute_result"
    },
    {
     "data": {
      "text/plain": [
       "<matplotlib.text.Text at 0x1b300106fd0>"
      ]
     },
     "execution_count": 99,
     "metadata": {},
     "output_type": "execute_result"
    },
    {
     "data": {
      "text/plain": [
       "<matplotlib.text.Text at 0x1b3001984e0>"
      ]
     },
     "execution_count": 99,
     "metadata": {},
     "output_type": "execute_result"
    },
    {
     "data": {
      "image/png": "[encoded data removed]",
      "text/plain": [
       "<matplotlib.figure.Figure at 0x1b3001bf4e0>"
      ]
     },
     "metadata": {},
     "output_type": "display_data"
    }
   ],
   "source": [
    "fig = plt.figure(figsize=(7, 7))\n",
    "plt.scatter(df['borrower_count'], df['loan_amount'], alpha=0.5)\n",
    "plt.xlabel('Number of borrowers')\n",
    "plt.ylabel('loan amount')\n",
    "plt.show()"
   ]
  },
  {
   "cell_type": "markdown",
   "metadata": {},
   "source": [
    "Now lets look at the next top 2 features, the posted date and the days to fund."
   ]
  },
  {
   "cell_type": "code",
   "execution_count": 56,
   "metadata": {},
   "outputs": [
    {
     "data": {
      "text/plain": [
       "<matplotlib.collections.PathCollection at 0x490e56f5f8>"
      ]
     },
     "execution_count": 56,
     "metadata": {},
     "output_type": "execute_result"
    },
    {
     "data": {
      "text/plain": [
       "<matplotlib.text.Text at 0x4921f5cc88>"
      ]
     },
     "execution_count": 56,
     "metadata": {},
     "output_type": "execute_result"
    },
    {
     "data": {
      "text/plain": [
       "<matplotlib.text.Text at 0x490e48e320>"
      ]
     },
     "execution_count": 56,
     "metadata": {},
     "output_type": "execute_result"
    },
    {
     "data": {
      "image/png": "[encoded data removed]",
      "text/plain": [
       "<matplotlib.figure.Figure at 0x491cf69978>"
      ]
     },
     "metadata": {},
     "output_type": "display_data"
    }
   ],
   "source": [
    "fig = plt.figure(figsize=(7, 7))\n",
    "plt.scatter(df['posted_date_unix'], df['loan_amount'], alpha=0.5)\n",
    "plt.xlabel('posted date as an integer')\n",
    "plt.ylabel('loan amount')\n",
    "plt.show()"
   ]
  },
  {
   "cell_type": "code",
   "execution_count": 57,
   "metadata": {},
   "outputs": [
    {
     "data": {
      "text/plain": [
       "<matplotlib.collections.PathCollection at 0x490e62d860>"
      ]
     },
     "execution_count": 57,
     "metadata": {},
     "output_type": "execute_result"
    },
    {
     "data": {
      "text/plain": [
       "<matplotlib.text.Text at 0x490e67c5c0>"
      ]
     },
     "execution_count": 57,
     "metadata": {},
     "output_type": "execute_result"
    },
    {
     "data": {
      "text/plain": [
       "<matplotlib.text.Text at 0x490e677be0>"
      ]
     },
     "execution_count": 57,
     "metadata": {},
     "output_type": "execute_result"
    },
    {
     "data": {
      "image/png": "[encoded data removed]",
      "text/plain": [
       "<matplotlib.figure.Figure at 0x490e56ff28>"
      ]
     },
     "metadata": {},
     "output_type": "display_data"
    }
   ],
   "source": [
    "fig = plt.figure(figsize=(7, 7))\n",
    "plt.scatter(df['days_to_fund'], df['loan_amount'], alpha=0.5)\n",
    "plt.xlabel('Number of days to fund')\n",
    "plt.ylabel('loan amount')\n",
    "plt.show()"
   ]
  },
  {
   "cell_type": "markdown",
   "metadata": {},
   "source": [
    "What is interesting here is that there is not a very clear relationship between any single feature and the loan_amount. However the aggregat these features together into either the bagged regressor or the random forest algorithm leads to very effective predictions (R^2 ~ 0.74). This is a testament to the predictive power of decisions trees and ensemble methods!"
   ]
  },
  {
   "cell_type": "markdown",
   "metadata": {},
   "source": [
    "Let's try taking the top 20 features and observe it's impact on performance"
   ]
  },
  {
   "cell_type": "code",
   "execution_count": 58,
   "metadata": {
    "collapsed": true
   },
   "outputs": [],
   "source": [
    "relevant_cols = [rf_trainArr.columns[indices[f]] for f in range(20)]\n",
    "X_train2, X_test2 = X_train[relevant_cols], X_test[relevant_cols]"
   ]
  },
  {
   "cell_type": "code",
   "execution_count": 59,
   "metadata": {},
   "outputs": [
    {
     "data": {
      "text/plain": [
       "RandomForestRegressor(bootstrap=True, criterion='mse', max_depth=None,\n",
       "           max_features='auto', max_leaf_nodes=None,\n",
       "           min_impurity_split=1e-07, min_samples_leaf=1,\n",
       "           min_samples_split=2, min_weight_fraction_leaf=0.0,\n",
       "           n_estimators=100, n_jobs=1, oob_score=True, random_state=None,\n",
       "           verbose=0, warm_start=False)"
      ]
     },
     "execution_count": 59,
     "metadata": {},
     "output_type": "execute_result"
    },
    {
     "name": "stdout",
     "output_type": "stream",
     "text": [
      "Train score: 0.944638222597\n",
      "Test score: 0.696974951404\n",
      "OOB score: 0.657885885248\n"
     ]
    }
   ],
   "source": [
    "rf2 = RandomForestRegressor(n_estimators=100, oob_score=True)\n",
    "rf2.fit(X_train2,y_train)\n",
    "print_scores(rf2, X_train2, y_train, X_test2, y_test, oob_score=True)"
   ]
  },
  {
   "cell_type": "markdown",
   "metadata": {},
   "source": [
    "The scores haven't changed significantly which means that we can continue just using the top 20 features. This means the algorithms must faster and gives us a clearer idea of which features affect the loan amount"
   ]
  },
  {
   "cell_type": "markdown",
   "metadata": {},
   "source": [
    "Before we move onto homework, remember to output your final dataframe so you don't have to rerun it."
   ]
  },
  {
   "cell_type": "code",
   "execution_count": null,
   "metadata": {
    "collapsed": true
   },
   "outputs": [],
   "source": [
    "df.to_csv(data_path+'df_module_3.csv')"
   ]
  },
  {
   "cell_type": "markdown",
   "metadata": {},
   "source": [
    "## Homework"
   ]
  },
  {
   "cell_type": "markdown",
   "metadata": {},
   "source": [
    "Repeat the BaggingRegressor and the RandomForestRegressor method with a new target feature: days_to_fund. Determine the monst important features and discuss which features are intuitive or a surprise and why. \n"
   ]
  },
  {
   "cell_type": "markdown",
   "metadata": {},
   "source": [
    "CK: Lets test this: If both techniques are similar, we can create a function that automates the whole process of training and testinng beginnning with paramter optimization. "
   ]
  },
  {
   "cell_type": "code",
   "execution_count": 61,
   "metadata": {
    "collapsed": true
   },
   "outputs": [],
   "source": [
    "# adding the loan_amount feature back into the rf_trainArr dataset\n",
    "rf_trainArr['loan_amount'] = rf_trainRes\n",
    "# The new target feature result is the days_to_fund so pull that out and drop it from the training array\n",
    "rf_trainRes = rf_trainArr['days_to_fund']\n",
    "rf_trainArr = rf_trainArr.drop('days_to_fund', axis=1)"
   ]
  },
  {
   "cell_type": "code",
   "execution_count": 62,
   "metadata": {
    "collapsed": true
   },
   "outputs": [],
   "source": [
    "# Create X_train, y_train, X_test and y_test where the y value is the days_to_fund feature. \n",
    "# Try using test_train_split function imported from sklearn\n",
    "\n",
    "X_train, X_test, y_train, y_test = train_test_split(rf_trainArr, rf_trainRes, test_size=0.2, random_state=42)"
   ]
  },
  {
   "cell_type": "markdown",
   "metadata": {},
   "source": [
    "Remember the three basic steps:\n",
    "- step 1: Initiate the algorithm\n",
    "- step 2: Fit the algorithm to the training data\n",
    "- step 3: Evaluate the algorithm performance\n",
    "\n",
    "## Bagging Regressor"
   ]
  },
  {
   "cell_type": "code",
   "execution_count": 63,
   "metadata": {},
   "outputs": [
    {
     "data": {
      "text/plain": [
       "RandomForestRegressor(bootstrap=True, criterion='mse', max_depth=None,\n",
       "           max_features='auto', max_leaf_nodes=None,\n",
       "           min_impurity_split=1e-07, min_samples_leaf=1,\n",
       "           min_samples_split=2, min_weight_fraction_leaf=0.0,\n",
       "           n_estimators=100, n_jobs=1, oob_score=True, random_state=None,\n",
       "           verbose=0, warm_start=False)"
      ]
     },
     "execution_count": 63,
     "metadata": {},
     "output_type": "execute_result"
    },
    {
     "name": "stdout",
     "output_type": "stream",
     "text": [
      "Train score: 0.95663490853\n",
      "Test score: 0.68235662781\n",
      "OOB score: 0.686891771881\n"
     ]
    }
   ],
   "source": [
    "# Step 1: Initiating the bagging regressor algorithm\n",
    "rf_regressor = RandomForestRegressor(n_estimators=100, oob_score=True)\n",
    "# Step 2: Training the bagging regressor algorithm\n",
    "rf_regressor.fit(X_train,y_train)\n",
    "# Step 3: Calculating the score of the predictive power on the training and testing dataset.\n",
    "print_scores(rf_regressor, X_train, y_train, X_test, y_test, oob_score=True)"
   ]
  },
  {
   "cell_type": "code",
   "execution_count": null,
   "metadata": {
    "collapsed": true
   },
   "outputs": [],
   "source": [
    "# Use the BaggingRegressor method to predict the days_to_fund"
   ]
  },
  {
   "cell_type": "code",
   "execution_count": null,
   "metadata": {
    "collapsed": true
   },
   "outputs": [],
   "source": [
    "# Use the RandomForest Regressor method to predict the days_to_fund"
   ]
  },
  {
   "cell_type": "code",
   "execution_count": null,
   "metadata": {
    "collapsed": true
   },
   "outputs": [],
   "source": [
    "# Find the most important features"
   ]
  },
  {
   "cell_type": "markdown",
   "metadata": {},
   "source": [
    "## Advanced Homework (optional)"
   ]
  },
  {
   "cell_type": "markdown",
   "metadata": {},
   "source": [
    "The sklearn RandomForest library also has a classifier method, which rather than predicting a continuous numerical value such as loan amount or days to fund, it attempted to classify data on existing labels, eg: male or female. \n",
    "\n",
    "We imported this method at the beginning and you can read more about it here using the following cell or by going the sklearn [RandomForestClassifier](http://scikit-learn.org/stable/modules/generated/sklearn.ensemble.RandomForestClassifier.html) webpage."
   ]
  },
  {
   "cell_type": "code",
   "execution_count": 148,
   "metadata": {
    "collapsed": true
   },
   "outputs": [],
   "source": [
    "RandomForestClassifier?"
   ]
  },
  {
   "cell_type": "markdown",
   "metadata": {},
   "source": [
    "Using this module and the original feature gender, see how well we can classify loans by the gender. The procedure for training and testing data is practically the same as the RandomForestRegressor and the score is the mean accuracy of the predictions rather than the R^2 of the regression. "
   ]
  },
  {
   "cell_type": "markdown",
   "metadata": {},
   "source": [
    "## Advanced Material: Optimising the algorithm"
   ]
  },
  {
   "cell_type": "markdown",
   "metadata": {},
   "source": [
    "Up to this point, we have been largely been using the default values for all of the hyper-parameters.  To increase perfromance we should try adjusting these parameters.  Sklearn's GridSearchCV uses cross-validation to assess the performance of each possible permutation of the hyper-parameters that you specify."
   ]
  },
  {
   "cell_type": "code",
   "execution_count": 140,
   "metadata": {
    "collapsed": true
   },
   "outputs": [],
   "source": [
    "from sklearn.model_selection import GridSearchCV\n",
    "parameters = {'n_estimators': [100, 300, 500],\n",
    "             'max_features': ['auto', 'sqrt', 'log2'],\n",
    "              'max_depth': [None, 5, 10]\n",
    "             }\n",
    "gridrf = RandomForestRegressor()\n",
    "grid_rf = GridSearchCV(gridrf, parameters)"
   ]
  },
  {
   "cell_type": "code",
   "execution_count": 141,
   "metadata": {},
   "outputs": [
    {
     "ename": "KeyboardInterrupt",
     "evalue": "",
     "output_type": "error",
     "traceback": [
      "\u001b[0;31m---------------------------------------------------------------------------\u001b[0m",
      "\u001b[0;31mKeyboardInterrupt\u001b[0m                         Traceback (most recent call last)",
      "\u001b[0;32m<ipython-input-141-25471aae2115>\u001b[0m in \u001b[0;36m<module>\u001b[0;34m()\u001b[0m\n\u001b[0;32m----> 1\u001b[0;31m \u001b[0mgrid_rf\u001b[0m\u001b[1;33m.\u001b[0m\u001b[0mfit\u001b[0m\u001b[1;33m(\u001b[0m\u001b[0mX_train2\u001b[0m\u001b[1;33m,\u001b[0m \u001b[0my_train\u001b[0m\u001b[1;33m)\u001b[0m\u001b[1;33m\u001b[0m\u001b[0m\n\u001b[0m",
      "\u001b[0;32mC:\\Users\\PC\\Anaconda3\\lib\\site-packages\\sklearn\\model_selection\\_search.py\u001b[0m in \u001b[0;36mfit\u001b[0;34m(self, X, y, groups)\u001b[0m\n\u001b[1;32m    943\u001b[0m             \u001b[0mtrain\u001b[0m\u001b[1;33m/\u001b[0m\u001b[0mtest\u001b[0m \u001b[0mset\u001b[0m\u001b[1;33m.\u001b[0m\u001b[1;33m\u001b[0m\u001b[0m\n\u001b[1;32m    944\u001b[0m         \"\"\"\n\u001b[0;32m--> 945\u001b[0;31m         \u001b[1;32mreturn\u001b[0m \u001b[0mself\u001b[0m\u001b[1;33m.\u001b[0m\u001b[0m_fit\u001b[0m\u001b[1;33m(\u001b[0m\u001b[0mX\u001b[0m\u001b[1;33m,\u001b[0m \u001b[0my\u001b[0m\u001b[1;33m,\u001b[0m \u001b[0mgroups\u001b[0m\u001b[1;33m,\u001b[0m \u001b[0mParameterGrid\u001b[0m\u001b[1;33m(\u001b[0m\u001b[0mself\u001b[0m\u001b[1;33m.\u001b[0m\u001b[0mparam_grid\u001b[0m\u001b[1;33m)\u001b[0m\u001b[1;33m)\u001b[0m\u001b[1;33m\u001b[0m\u001b[0m\n\u001b[0m\u001b[1;32m    946\u001b[0m \u001b[1;33m\u001b[0m\u001b[0m\n\u001b[1;32m    947\u001b[0m \u001b[1;33m\u001b[0m\u001b[0m\n",
      "\u001b[0;32mC:\\Users\\PC\\Anaconda3\\lib\\site-packages\\sklearn\\model_selection\\_search.py\u001b[0m in \u001b[0;36m_fit\u001b[0;34m(self, X, y, groups, parameter_iterable)\u001b[0m\n\u001b[1;32m    562\u001b[0m                                   \u001b[0mreturn_times\u001b[0m\u001b[1;33m=\u001b[0m\u001b[1;32mTrue\u001b[0m\u001b[1;33m,\u001b[0m \u001b[0mreturn_parameters\u001b[0m\u001b[1;33m=\u001b[0m\u001b[1;32mTrue\u001b[0m\u001b[1;33m,\u001b[0m\u001b[1;33m\u001b[0m\u001b[0m\n\u001b[1;32m    563\u001b[0m                                   error_score=self.error_score)\n\u001b[0;32m--> 564\u001b[0;31m           \u001b[1;32mfor\u001b[0m \u001b[0mparameters\u001b[0m \u001b[1;32min\u001b[0m \u001b[0mparameter_iterable\u001b[0m\u001b[1;33m\u001b[0m\u001b[0m\n\u001b[0m\u001b[1;32m    565\u001b[0m           for train, test in cv_iter)\n\u001b[1;32m    566\u001b[0m \u001b[1;33m\u001b[0m\u001b[0m\n",
      "\u001b[0;32mC:\\Users\\PC\\Anaconda3\\lib\\site-packages\\sklearn\\externals\\joblib\\parallel.py\u001b[0m in \u001b[0;36m__call__\u001b[0;34m(self, iterable)\u001b[0m\n\u001b[1;32m    756\u001b[0m             \u001b[1;31m# was dispatched. In particular this covers the edge\u001b[0m\u001b[1;33m\u001b[0m\u001b[1;33m\u001b[0m\u001b[0m\n\u001b[1;32m    757\u001b[0m             \u001b[1;31m# case of Parallel used with an exhausted iterator.\u001b[0m\u001b[1;33m\u001b[0m\u001b[1;33m\u001b[0m\u001b[0m\n\u001b[0;32m--> 758\u001b[0;31m             \u001b[1;32mwhile\u001b[0m \u001b[0mself\u001b[0m\u001b[1;33m.\u001b[0m\u001b[0mdispatch_one_batch\u001b[0m\u001b[1;33m(\u001b[0m\u001b[0miterator\u001b[0m\u001b[1;33m)\u001b[0m\u001b[1;33m:\u001b[0m\u001b[1;33m\u001b[0m\u001b[0m\n\u001b[0m\u001b[1;32m    759\u001b[0m                 \u001b[0mself\u001b[0m\u001b[1;33m.\u001b[0m\u001b[0m_iterating\u001b[0m \u001b[1;33m=\u001b[0m \u001b[1;32mTrue\u001b[0m\u001b[1;33m\u001b[0m\u001b[0m\n\u001b[1;32m    760\u001b[0m             \u001b[1;32melse\u001b[0m\u001b[1;33m:\u001b[0m\u001b[1;33m\u001b[0m\u001b[0m\n",
      "\u001b[0;32mC:\\Users\\PC\\Anaconda3\\lib\\site-packages\\sklearn\\externals\\joblib\\parallel.py\u001b[0m in \u001b[0;36mdispatch_one_batch\u001b[0;34m(self, iterator)\u001b[0m\n\u001b[1;32m    606\u001b[0m                 \u001b[1;32mreturn\u001b[0m \u001b[1;32mFalse\u001b[0m\u001b[1;33m\u001b[0m\u001b[0m\n\u001b[1;32m    607\u001b[0m             \u001b[1;32melse\u001b[0m\u001b[1;33m:\u001b[0m\u001b[1;33m\u001b[0m\u001b[0m\n\u001b[0;32m--> 608\u001b[0;31m                 \u001b[0mself\u001b[0m\u001b[1;33m.\u001b[0m\u001b[0m_dispatch\u001b[0m\u001b[1;33m(\u001b[0m\u001b[0mtasks\u001b[0m\u001b[1;33m)\u001b[0m\u001b[1;33m\u001b[0m\u001b[0m\n\u001b[0m\u001b[1;32m    609\u001b[0m                 \u001b[1;32mreturn\u001b[0m \u001b[1;32mTrue\u001b[0m\u001b[1;33m\u001b[0m\u001b[0m\n\u001b[1;32m    610\u001b[0m \u001b[1;33m\u001b[0m\u001b[0m\n",
      "\u001b[0;32mC:\\Users\\PC\\Anaconda3\\lib\\site-packages\\sklearn\\externals\\joblib\\parallel.py\u001b[0m in \u001b[0;36m_dispatch\u001b[0;34m(self, batch)\u001b[0m\n\u001b[1;32m    569\u001b[0m         \u001b[0mdispatch_timestamp\u001b[0m \u001b[1;33m=\u001b[0m \u001b[0mtime\u001b[0m\u001b[1;33m.\u001b[0m\u001b[0mtime\u001b[0m\u001b[1;33m(\u001b[0m\u001b[1;33m)\u001b[0m\u001b[1;33m\u001b[0m\u001b[0m\n\u001b[1;32m    570\u001b[0m         \u001b[0mcb\u001b[0m \u001b[1;33m=\u001b[0m \u001b[0mBatchCompletionCallBack\u001b[0m\u001b[1;33m(\u001b[0m\u001b[0mdispatch_timestamp\u001b[0m\u001b[1;33m,\u001b[0m \u001b[0mlen\u001b[0m\u001b[1;33m(\u001b[0m\u001b[0mbatch\u001b[0m\u001b[1;33m)\u001b[0m\u001b[1;33m,\u001b[0m \u001b[0mself\u001b[0m\u001b[1;33m)\u001b[0m\u001b[1;33m\u001b[0m\u001b[0m\n\u001b[0;32m--> 571\u001b[0;31m         \u001b[0mjob\u001b[0m \u001b[1;33m=\u001b[0m \u001b[0mself\u001b[0m\u001b[1;33m.\u001b[0m\u001b[0m_backend\u001b[0m\u001b[1;33m.\u001b[0m\u001b[0mapply_async\u001b[0m\u001b[1;33m(\u001b[0m\u001b[0mbatch\u001b[0m\u001b[1;33m,\u001b[0m \u001b[0mcallback\u001b[0m\u001b[1;33m=\u001b[0m\u001b[0mcb\u001b[0m\u001b[1;33m)\u001b[0m\u001b[1;33m\u001b[0m\u001b[0m\n\u001b[0m\u001b[1;32m    572\u001b[0m         \u001b[0mself\u001b[0m\u001b[1;33m.\u001b[0m\u001b[0m_jobs\u001b[0m\u001b[1;33m.\u001b[0m\u001b[0mappend\u001b[0m\u001b[1;33m(\u001b[0m\u001b[0mjob\u001b[0m\u001b[1;33m)\u001b[0m\u001b[1;33m\u001b[0m\u001b[0m\n\u001b[1;32m    573\u001b[0m \u001b[1;33m\u001b[0m\u001b[0m\n",
      "\u001b[0;32mC:\\Users\\PC\\Anaconda3\\lib\\site-packages\\sklearn\\externals\\joblib\\_parallel_backends.py\u001b[0m in \u001b[0;36mapply_async\u001b[0;34m(self, func, callback)\u001b[0m\n\u001b[1;32m    107\u001b[0m     \u001b[1;32mdef\u001b[0m \u001b[0mapply_async\u001b[0m\u001b[1;33m(\u001b[0m\u001b[0mself\u001b[0m\u001b[1;33m,\u001b[0m \u001b[0mfunc\u001b[0m\u001b[1;33m,\u001b[0m \u001b[0mcallback\u001b[0m\u001b[1;33m=\u001b[0m\u001b[1;32mNone\u001b[0m\u001b[1;33m)\u001b[0m\u001b[1;33m:\u001b[0m\u001b[1;33m\u001b[0m\u001b[0m\n\u001b[1;32m    108\u001b[0m         \u001b[1;34m\"\"\"Schedule a func to be run\"\"\"\u001b[0m\u001b[1;33m\u001b[0m\u001b[0m\n\u001b[0;32m--> 109\u001b[0;31m         \u001b[0mresult\u001b[0m \u001b[1;33m=\u001b[0m \u001b[0mImmediateResult\u001b[0m\u001b[1;33m(\u001b[0m\u001b[0mfunc\u001b[0m\u001b[1;33m)\u001b[0m\u001b[1;33m\u001b[0m\u001b[0m\n\u001b[0m\u001b[1;32m    110\u001b[0m         \u001b[1;32mif\u001b[0m \u001b[0mcallback\u001b[0m\u001b[1;33m:\u001b[0m\u001b[1;33m\u001b[0m\u001b[0m\n\u001b[1;32m    111\u001b[0m             \u001b[0mcallback\u001b[0m\u001b[1;33m(\u001b[0m\u001b[0mresult\u001b[0m\u001b[1;33m)\u001b[0m\u001b[1;33m\u001b[0m\u001b[0m\n",
      "\u001b[0;32mC:\\Users\\PC\\Anaconda3\\lib\\site-packages\\sklearn\\externals\\joblib\\_parallel_backends.py\u001b[0m in \u001b[0;36m__init__\u001b[0;34m(self, batch)\u001b[0m\n\u001b[1;32m    324\u001b[0m         \u001b[1;31m# Don't delay the application, to avoid keeping the input\u001b[0m\u001b[1;33m\u001b[0m\u001b[1;33m\u001b[0m\u001b[0m\n\u001b[1;32m    325\u001b[0m         \u001b[1;31m# arguments in memory\u001b[0m\u001b[1;33m\u001b[0m\u001b[1;33m\u001b[0m\u001b[0m\n\u001b[0;32m--> 326\u001b[0;31m         \u001b[0mself\u001b[0m\u001b[1;33m.\u001b[0m\u001b[0mresults\u001b[0m \u001b[1;33m=\u001b[0m \u001b[0mbatch\u001b[0m\u001b[1;33m(\u001b[0m\u001b[1;33m)\u001b[0m\u001b[1;33m\u001b[0m\u001b[0m\n\u001b[0m\u001b[1;32m    327\u001b[0m \u001b[1;33m\u001b[0m\u001b[0m\n\u001b[1;32m    328\u001b[0m     \u001b[1;32mdef\u001b[0m \u001b[0mget\u001b[0m\u001b[1;33m(\u001b[0m\u001b[0mself\u001b[0m\u001b[1;33m)\u001b[0m\u001b[1;33m:\u001b[0m\u001b[1;33m\u001b[0m\u001b[0m\n",
      "\u001b[0;32mC:\\Users\\PC\\Anaconda3\\lib\\site-packages\\sklearn\\externals\\joblib\\parallel.py\u001b[0m in \u001b[0;36m__call__\u001b[0;34m(self)\u001b[0m\n\u001b[1;32m    129\u001b[0m \u001b[1;33m\u001b[0m\u001b[0m\n\u001b[1;32m    130\u001b[0m     \u001b[1;32mdef\u001b[0m \u001b[0m__call__\u001b[0m\u001b[1;33m(\u001b[0m\u001b[0mself\u001b[0m\u001b[1;33m)\u001b[0m\u001b[1;33m:\u001b[0m\u001b[1;33m\u001b[0m\u001b[0m\n\u001b[0;32m--> 131\u001b[0;31m         \u001b[1;32mreturn\u001b[0m \u001b[1;33m[\u001b[0m\u001b[0mfunc\u001b[0m\u001b[1;33m(\u001b[0m\u001b[1;33m*\u001b[0m\u001b[0margs\u001b[0m\u001b[1;33m,\u001b[0m \u001b[1;33m**\u001b[0m\u001b[0mkwargs\u001b[0m\u001b[1;33m)\u001b[0m \u001b[1;32mfor\u001b[0m \u001b[0mfunc\u001b[0m\u001b[1;33m,\u001b[0m \u001b[0margs\u001b[0m\u001b[1;33m,\u001b[0m \u001b[0mkwargs\u001b[0m \u001b[1;32min\u001b[0m \u001b[0mself\u001b[0m\u001b[1;33m.\u001b[0m\u001b[0mitems\u001b[0m\u001b[1;33m]\u001b[0m\u001b[1;33m\u001b[0m\u001b[0m\n\u001b[0m\u001b[1;32m    132\u001b[0m \u001b[1;33m\u001b[0m\u001b[0m\n\u001b[1;32m    133\u001b[0m     \u001b[1;32mdef\u001b[0m \u001b[0m__len__\u001b[0m\u001b[1;33m(\u001b[0m\u001b[0mself\u001b[0m\u001b[1;33m)\u001b[0m\u001b[1;33m:\u001b[0m\u001b[1;33m\u001b[0m\u001b[0m\n",
      "\u001b[0;32mC:\\Users\\PC\\Anaconda3\\lib\\site-packages\\sklearn\\externals\\joblib\\parallel.py\u001b[0m in \u001b[0;36m<listcomp>\u001b[0;34m(.0)\u001b[0m\n\u001b[1;32m    129\u001b[0m \u001b[1;33m\u001b[0m\u001b[0m\n\u001b[1;32m    130\u001b[0m     \u001b[1;32mdef\u001b[0m \u001b[0m__call__\u001b[0m\u001b[1;33m(\u001b[0m\u001b[0mself\u001b[0m\u001b[1;33m)\u001b[0m\u001b[1;33m:\u001b[0m\u001b[1;33m\u001b[0m\u001b[0m\n\u001b[0;32m--> 131\u001b[0;31m         \u001b[1;32mreturn\u001b[0m \u001b[1;33m[\u001b[0m\u001b[0mfunc\u001b[0m\u001b[1;33m(\u001b[0m\u001b[1;33m*\u001b[0m\u001b[0margs\u001b[0m\u001b[1;33m,\u001b[0m \u001b[1;33m**\u001b[0m\u001b[0mkwargs\u001b[0m\u001b[1;33m)\u001b[0m \u001b[1;32mfor\u001b[0m \u001b[0mfunc\u001b[0m\u001b[1;33m,\u001b[0m \u001b[0margs\u001b[0m\u001b[1;33m,\u001b[0m \u001b[0mkwargs\u001b[0m \u001b[1;32min\u001b[0m \u001b[0mself\u001b[0m\u001b[1;33m.\u001b[0m\u001b[0mitems\u001b[0m\u001b[1;33m]\u001b[0m\u001b[1;33m\u001b[0m\u001b[0m\n\u001b[0m\u001b[1;32m    132\u001b[0m \u001b[1;33m\u001b[0m\u001b[0m\n\u001b[1;32m    133\u001b[0m     \u001b[1;32mdef\u001b[0m \u001b[0m__len__\u001b[0m\u001b[1;33m(\u001b[0m\u001b[0mself\u001b[0m\u001b[1;33m)\u001b[0m\u001b[1;33m:\u001b[0m\u001b[1;33m\u001b[0m\u001b[0m\n",
      "\u001b[0;32mC:\\Users\\PC\\Anaconda3\\lib\\site-packages\\sklearn\\model_selection\\_validation.py\u001b[0m in \u001b[0;36m_fit_and_score\u001b[0;34m(estimator, X, y, scorer, train, test, verbose, parameters, fit_params, return_train_score, return_parameters, return_n_test_samples, return_times, error_score)\u001b[0m\n\u001b[1;32m    236\u001b[0m             \u001b[0mestimator\u001b[0m\u001b[1;33m.\u001b[0m\u001b[0mfit\u001b[0m\u001b[1;33m(\u001b[0m\u001b[0mX_train\u001b[0m\u001b[1;33m,\u001b[0m \u001b[1;33m**\u001b[0m\u001b[0mfit_params\u001b[0m\u001b[1;33m)\u001b[0m\u001b[1;33m\u001b[0m\u001b[0m\n\u001b[1;32m    237\u001b[0m         \u001b[1;32melse\u001b[0m\u001b[1;33m:\u001b[0m\u001b[1;33m\u001b[0m\u001b[0m\n\u001b[0;32m--> 238\u001b[0;31m             \u001b[0mestimator\u001b[0m\u001b[1;33m.\u001b[0m\u001b[0mfit\u001b[0m\u001b[1;33m(\u001b[0m\u001b[0mX_train\u001b[0m\u001b[1;33m,\u001b[0m \u001b[0my_train\u001b[0m\u001b[1;33m,\u001b[0m \u001b[1;33m**\u001b[0m\u001b[0mfit_params\u001b[0m\u001b[1;33m)\u001b[0m\u001b[1;33m\u001b[0m\u001b[0m\n\u001b[0m\u001b[1;32m    239\u001b[0m \u001b[1;33m\u001b[0m\u001b[0m\n\u001b[1;32m    240\u001b[0m     \u001b[1;32mexcept\u001b[0m \u001b[0mException\u001b[0m \u001b[1;32mas\u001b[0m \u001b[0me\u001b[0m\u001b[1;33m:\u001b[0m\u001b[1;33m\u001b[0m\u001b[0m\n",
      "\u001b[0;32mC:\\Users\\PC\\Anaconda3\\lib\\site-packages\\sklearn\\ensemble\\forest.py\u001b[0m in \u001b[0;36mfit\u001b[0;34m(self, X, y, sample_weight)\u001b[0m\n\u001b[1;32m    324\u001b[0m                     \u001b[0mt\u001b[0m\u001b[1;33m,\u001b[0m \u001b[0mself\u001b[0m\u001b[1;33m,\u001b[0m \u001b[0mX\u001b[0m\u001b[1;33m,\u001b[0m \u001b[0my\u001b[0m\u001b[1;33m,\u001b[0m \u001b[0msample_weight\u001b[0m\u001b[1;33m,\u001b[0m \u001b[0mi\u001b[0m\u001b[1;33m,\u001b[0m \u001b[0mlen\u001b[0m\u001b[1;33m(\u001b[0m\u001b[0mtrees\u001b[0m\u001b[1;33m)\u001b[0m\u001b[1;33m,\u001b[0m\u001b[1;33m\u001b[0m\u001b[0m\n\u001b[1;32m    325\u001b[0m                     verbose=self.verbose, class_weight=self.class_weight)\n\u001b[0;32m--> 326\u001b[0;31m                 for i, t in enumerate(trees))\n\u001b[0m\u001b[1;32m    327\u001b[0m \u001b[1;33m\u001b[0m\u001b[0m\n\u001b[1;32m    328\u001b[0m             \u001b[1;31m# Collect newly grown trees\u001b[0m\u001b[1;33m\u001b[0m\u001b[1;33m\u001b[0m\u001b[0m\n",
      "\u001b[0;32mC:\\Users\\PC\\Anaconda3\\lib\\site-packages\\sklearn\\externals\\joblib\\parallel.py\u001b[0m in \u001b[0;36m__call__\u001b[0;34m(self, iterable)\u001b[0m\n\u001b[1;32m    756\u001b[0m             \u001b[1;31m# was dispatched. In particular this covers the edge\u001b[0m\u001b[1;33m\u001b[0m\u001b[1;33m\u001b[0m\u001b[0m\n\u001b[1;32m    757\u001b[0m             \u001b[1;31m# case of Parallel used with an exhausted iterator.\u001b[0m\u001b[1;33m\u001b[0m\u001b[1;33m\u001b[0m\u001b[0m\n\u001b[0;32m--> 758\u001b[0;31m             \u001b[1;32mwhile\u001b[0m \u001b[0mself\u001b[0m\u001b[1;33m.\u001b[0m\u001b[0mdispatch_one_batch\u001b[0m\u001b[1;33m(\u001b[0m\u001b[0miterator\u001b[0m\u001b[1;33m)\u001b[0m\u001b[1;33m:\u001b[0m\u001b[1;33m\u001b[0m\u001b[0m\n\u001b[0m\u001b[1;32m    759\u001b[0m                 \u001b[0mself\u001b[0m\u001b[1;33m.\u001b[0m\u001b[0m_iterating\u001b[0m \u001b[1;33m=\u001b[0m \u001b[1;32mTrue\u001b[0m\u001b[1;33m\u001b[0m\u001b[0m\n\u001b[1;32m    760\u001b[0m             \u001b[1;32melse\u001b[0m\u001b[1;33m:\u001b[0m\u001b[1;33m\u001b[0m\u001b[0m\n",
      "\u001b[0;32mC:\\Users\\PC\\Anaconda3\\lib\\site-packages\\sklearn\\externals\\joblib\\parallel.py\u001b[0m in \u001b[0;36mdispatch_one_batch\u001b[0;34m(self, iterator)\u001b[0m\n\u001b[1;32m    606\u001b[0m                 \u001b[1;32mreturn\u001b[0m \u001b[1;32mFalse\u001b[0m\u001b[1;33m\u001b[0m\u001b[0m\n\u001b[1;32m    607\u001b[0m             \u001b[1;32melse\u001b[0m\u001b[1;33m:\u001b[0m\u001b[1;33m\u001b[0m\u001b[0m\n\u001b[0;32m--> 608\u001b[0;31m                 \u001b[0mself\u001b[0m\u001b[1;33m.\u001b[0m\u001b[0m_dispatch\u001b[0m\u001b[1;33m(\u001b[0m\u001b[0mtasks\u001b[0m\u001b[1;33m)\u001b[0m\u001b[1;33m\u001b[0m\u001b[0m\n\u001b[0m\u001b[1;32m    609\u001b[0m                 \u001b[1;32mreturn\u001b[0m \u001b[1;32mTrue\u001b[0m\u001b[1;33m\u001b[0m\u001b[0m\n\u001b[1;32m    610\u001b[0m \u001b[1;33m\u001b[0m\u001b[0m\n",
      "\u001b[0;32mC:\\Users\\PC\\Anaconda3\\lib\\site-packages\\sklearn\\externals\\joblib\\parallel.py\u001b[0m in \u001b[0;36m_dispatch\u001b[0;34m(self, batch)\u001b[0m\n\u001b[1;32m    569\u001b[0m         \u001b[0mdispatch_timestamp\u001b[0m \u001b[1;33m=\u001b[0m \u001b[0mtime\u001b[0m\u001b[1;33m.\u001b[0m\u001b[0mtime\u001b[0m\u001b[1;33m(\u001b[0m\u001b[1;33m)\u001b[0m\u001b[1;33m\u001b[0m\u001b[0m\n\u001b[1;32m    570\u001b[0m         \u001b[0mcb\u001b[0m \u001b[1;33m=\u001b[0m \u001b[0mBatchCompletionCallBack\u001b[0m\u001b[1;33m(\u001b[0m\u001b[0mdispatch_timestamp\u001b[0m\u001b[1;33m,\u001b[0m \u001b[0mlen\u001b[0m\u001b[1;33m(\u001b[0m\u001b[0mbatch\u001b[0m\u001b[1;33m)\u001b[0m\u001b[1;33m,\u001b[0m \u001b[0mself\u001b[0m\u001b[1;33m)\u001b[0m\u001b[1;33m\u001b[0m\u001b[0m\n\u001b[0;32m--> 571\u001b[0;31m         \u001b[0mjob\u001b[0m \u001b[1;33m=\u001b[0m \u001b[0mself\u001b[0m\u001b[1;33m.\u001b[0m\u001b[0m_backend\u001b[0m\u001b[1;33m.\u001b[0m\u001b[0mapply_async\u001b[0m\u001b[1;33m(\u001b[0m\u001b[0mbatch\u001b[0m\u001b[1;33m,\u001b[0m \u001b[0mcallback\u001b[0m\u001b[1;33m=\u001b[0m\u001b[0mcb\u001b[0m\u001b[1;33m)\u001b[0m\u001b[1;33m\u001b[0m\u001b[0m\n\u001b[0m\u001b[1;32m    572\u001b[0m         \u001b[0mself\u001b[0m\u001b[1;33m.\u001b[0m\u001b[0m_jobs\u001b[0m\u001b[1;33m.\u001b[0m\u001b[0mappend\u001b[0m\u001b[1;33m(\u001b[0m\u001b[0mjob\u001b[0m\u001b[1;33m)\u001b[0m\u001b[1;33m\u001b[0m\u001b[0m\n\u001b[1;32m    573\u001b[0m \u001b[1;33m\u001b[0m\u001b[0m\n",
      "\u001b[0;32mC:\\Users\\PC\\Anaconda3\\lib\\site-packages\\sklearn\\externals\\joblib\\_parallel_backends.py\u001b[0m in \u001b[0;36mapply_async\u001b[0;34m(self, func, callback)\u001b[0m\n\u001b[1;32m    107\u001b[0m     \u001b[1;32mdef\u001b[0m \u001b[0mapply_async\u001b[0m\u001b[1;33m(\u001b[0m\u001b[0mself\u001b[0m\u001b[1;33m,\u001b[0m \u001b[0mfunc\u001b[0m\u001b[1;33m,\u001b[0m \u001b[0mcallback\u001b[0m\u001b[1;33m=\u001b[0m\u001b[1;32mNone\u001b[0m\u001b[1;33m)\u001b[0m\u001b[1;33m:\u001b[0m\u001b[1;33m\u001b[0m\u001b[0m\n\u001b[1;32m    108\u001b[0m         \u001b[1;34m\"\"\"Schedule a func to be run\"\"\"\u001b[0m\u001b[1;33m\u001b[0m\u001b[0m\n\u001b[0;32m--> 109\u001b[0;31m         \u001b[0mresult\u001b[0m \u001b[1;33m=\u001b[0m \u001b[0mImmediateResult\u001b[0m\u001b[1;33m(\u001b[0m\u001b[0mfunc\u001b[0m\u001b[1;33m)\u001b[0m\u001b[1;33m\u001b[0m\u001b[0m\n\u001b[0m\u001b[1;32m    110\u001b[0m         \u001b[1;32mif\u001b[0m \u001b[0mcallback\u001b[0m\u001b[1;33m:\u001b[0m\u001b[1;33m\u001b[0m\u001b[0m\n\u001b[1;32m    111\u001b[0m             \u001b[0mcallback\u001b[0m\u001b[1;33m(\u001b[0m\u001b[0mresult\u001b[0m\u001b[1;33m)\u001b[0m\u001b[1;33m\u001b[0m\u001b[0m\n",
      "\u001b[0;32mC:\\Users\\PC\\Anaconda3\\lib\\site-packages\\sklearn\\externals\\joblib\\_parallel_backends.py\u001b[0m in \u001b[0;36m__init__\u001b[0;34m(self, batch)\u001b[0m\n\u001b[1;32m    324\u001b[0m         \u001b[1;31m# Don't delay the application, to avoid keeping the input\u001b[0m\u001b[1;33m\u001b[0m\u001b[1;33m\u001b[0m\u001b[0m\n\u001b[1;32m    325\u001b[0m         \u001b[1;31m# arguments in memory\u001b[0m\u001b[1;33m\u001b[0m\u001b[1;33m\u001b[0m\u001b[0m\n\u001b[0;32m--> 326\u001b[0;31m         \u001b[0mself\u001b[0m\u001b[1;33m.\u001b[0m\u001b[0mresults\u001b[0m \u001b[1;33m=\u001b[0m \u001b[0mbatch\u001b[0m\u001b[1;33m(\u001b[0m\u001b[1;33m)\u001b[0m\u001b[1;33m\u001b[0m\u001b[0m\n\u001b[0m\u001b[1;32m    327\u001b[0m \u001b[1;33m\u001b[0m\u001b[0m\n\u001b[1;32m    328\u001b[0m     \u001b[1;32mdef\u001b[0m \u001b[0mget\u001b[0m\u001b[1;33m(\u001b[0m\u001b[0mself\u001b[0m\u001b[1;33m)\u001b[0m\u001b[1;33m:\u001b[0m\u001b[1;33m\u001b[0m\u001b[0m\n",
      "\u001b[0;32mC:\\Users\\PC\\Anaconda3\\lib\\site-packages\\sklearn\\externals\\joblib\\parallel.py\u001b[0m in \u001b[0;36m__call__\u001b[0;34m(self)\u001b[0m\n\u001b[1;32m    129\u001b[0m \u001b[1;33m\u001b[0m\u001b[0m\n\u001b[1;32m    130\u001b[0m     \u001b[1;32mdef\u001b[0m \u001b[0m__call__\u001b[0m\u001b[1;33m(\u001b[0m\u001b[0mself\u001b[0m\u001b[1;33m)\u001b[0m\u001b[1;33m:\u001b[0m\u001b[1;33m\u001b[0m\u001b[0m\n\u001b[0;32m--> 131\u001b[0;31m         \u001b[1;32mreturn\u001b[0m \u001b[1;33m[\u001b[0m\u001b[0mfunc\u001b[0m\u001b[1;33m(\u001b[0m\u001b[1;33m*\u001b[0m\u001b[0margs\u001b[0m\u001b[1;33m,\u001b[0m \u001b[1;33m**\u001b[0m\u001b[0mkwargs\u001b[0m\u001b[1;33m)\u001b[0m \u001b[1;32mfor\u001b[0m \u001b[0mfunc\u001b[0m\u001b[1;33m,\u001b[0m \u001b[0margs\u001b[0m\u001b[1;33m,\u001b[0m \u001b[0mkwargs\u001b[0m \u001b[1;32min\u001b[0m \u001b[0mself\u001b[0m\u001b[1;33m.\u001b[0m\u001b[0mitems\u001b[0m\u001b[1;33m]\u001b[0m\u001b[1;33m\u001b[0m\u001b[0m\n\u001b[0m\u001b[1;32m    132\u001b[0m \u001b[1;33m\u001b[0m\u001b[0m\n\u001b[1;32m    133\u001b[0m     \u001b[1;32mdef\u001b[0m \u001b[0m__len__\u001b[0m\u001b[1;33m(\u001b[0m\u001b[0mself\u001b[0m\u001b[1;33m)\u001b[0m\u001b[1;33m:\u001b[0m\u001b[1;33m\u001b[0m\u001b[0m\n",
      "\u001b[0;32mC:\\Users\\PC\\Anaconda3\\lib\\site-packages\\sklearn\\externals\\joblib\\parallel.py\u001b[0m in \u001b[0;36m<listcomp>\u001b[0;34m(.0)\u001b[0m\n\u001b[1;32m    129\u001b[0m \u001b[1;33m\u001b[0m\u001b[0m\n\u001b[1;32m    130\u001b[0m     \u001b[1;32mdef\u001b[0m \u001b[0m__call__\u001b[0m\u001b[1;33m(\u001b[0m\u001b[0mself\u001b[0m\u001b[1;33m)\u001b[0m\u001b[1;33m:\u001b[0m\u001b[1;33m\u001b[0m\u001b[0m\n\u001b[0;32m--> 131\u001b[0;31m         \u001b[1;32mreturn\u001b[0m \u001b[1;33m[\u001b[0m\u001b[0mfunc\u001b[0m\u001b[1;33m(\u001b[0m\u001b[1;33m*\u001b[0m\u001b[0margs\u001b[0m\u001b[1;33m,\u001b[0m \u001b[1;33m**\u001b[0m\u001b[0mkwargs\u001b[0m\u001b[1;33m)\u001b[0m \u001b[1;32mfor\u001b[0m \u001b[0mfunc\u001b[0m\u001b[1;33m,\u001b[0m \u001b[0margs\u001b[0m\u001b[1;33m,\u001b[0m \u001b[0mkwargs\u001b[0m \u001b[1;32min\u001b[0m \u001b[0mself\u001b[0m\u001b[1;33m.\u001b[0m\u001b[0mitems\u001b[0m\u001b[1;33m]\u001b[0m\u001b[1;33m\u001b[0m\u001b[0m\n\u001b[0m\u001b[1;32m    132\u001b[0m \u001b[1;33m\u001b[0m\u001b[0m\n\u001b[1;32m    133\u001b[0m     \u001b[1;32mdef\u001b[0m \u001b[0m__len__\u001b[0m\u001b[1;33m(\u001b[0m\u001b[0mself\u001b[0m\u001b[1;33m)\u001b[0m\u001b[1;33m:\u001b[0m\u001b[1;33m\u001b[0m\u001b[0m\n",
      "\u001b[0;32mC:\\Users\\PC\\Anaconda3\\lib\\site-packages\\sklearn\\ensemble\\forest.py\u001b[0m in \u001b[0;36m_parallel_build_trees\u001b[0;34m(tree, forest, X, y, sample_weight, tree_idx, n_trees, verbose, class_weight)\u001b[0m\n\u001b[1;32m    118\u001b[0m             \u001b[0mcurr_sample_weight\u001b[0m \u001b[1;33m*=\u001b[0m \u001b[0mcompute_sample_weight\u001b[0m\u001b[1;33m(\u001b[0m\u001b[1;34m'balanced'\u001b[0m\u001b[1;33m,\u001b[0m \u001b[0my\u001b[0m\u001b[1;33m,\u001b[0m \u001b[0mindices\u001b[0m\u001b[1;33m)\u001b[0m\u001b[1;33m\u001b[0m\u001b[0m\n\u001b[1;32m    119\u001b[0m \u001b[1;33m\u001b[0m\u001b[0m\n\u001b[0;32m--> 120\u001b[0;31m         \u001b[0mtree\u001b[0m\u001b[1;33m.\u001b[0m\u001b[0mfit\u001b[0m\u001b[1;33m(\u001b[0m\u001b[0mX\u001b[0m\u001b[1;33m,\u001b[0m \u001b[0my\u001b[0m\u001b[1;33m,\u001b[0m \u001b[0msample_weight\u001b[0m\u001b[1;33m=\u001b[0m\u001b[0mcurr_sample_weight\u001b[0m\u001b[1;33m,\u001b[0m \u001b[0mcheck_input\u001b[0m\u001b[1;33m=\u001b[0m\u001b[1;32mFalse\u001b[0m\u001b[1;33m)\u001b[0m\u001b[1;33m\u001b[0m\u001b[0m\n\u001b[0m\u001b[1;32m    121\u001b[0m     \u001b[1;32melse\u001b[0m\u001b[1;33m:\u001b[0m\u001b[1;33m\u001b[0m\u001b[0m\n\u001b[1;32m    122\u001b[0m         \u001b[0mtree\u001b[0m\u001b[1;33m.\u001b[0m\u001b[0mfit\u001b[0m\u001b[1;33m(\u001b[0m\u001b[0mX\u001b[0m\u001b[1;33m,\u001b[0m \u001b[0my\u001b[0m\u001b[1;33m,\u001b[0m \u001b[0msample_weight\u001b[0m\u001b[1;33m=\u001b[0m\u001b[0msample_weight\u001b[0m\u001b[1;33m,\u001b[0m \u001b[0mcheck_input\u001b[0m\u001b[1;33m=\u001b[0m\u001b[1;32mFalse\u001b[0m\u001b[1;33m)\u001b[0m\u001b[1;33m\u001b[0m\u001b[0m\n",
      "\u001b[0;32mC:\\Users\\PC\\Anaconda3\\lib\\site-packages\\sklearn\\tree\\tree.py\u001b[0m in \u001b[0;36mfit\u001b[0;34m(self, X, y, sample_weight, check_input, X_idx_sorted)\u001b[0m\n\u001b[1;32m   1027\u001b[0m             \u001b[0msample_weight\u001b[0m\u001b[1;33m=\u001b[0m\u001b[0msample_weight\u001b[0m\u001b[1;33m,\u001b[0m\u001b[1;33m\u001b[0m\u001b[0m\n\u001b[1;32m   1028\u001b[0m             \u001b[0mcheck_input\u001b[0m\u001b[1;33m=\u001b[0m\u001b[0mcheck_input\u001b[0m\u001b[1;33m,\u001b[0m\u001b[1;33m\u001b[0m\u001b[0m\n\u001b[0;32m-> 1029\u001b[0;31m             X_idx_sorted=X_idx_sorted)\n\u001b[0m\u001b[1;32m   1030\u001b[0m         \u001b[1;32mreturn\u001b[0m \u001b[0mself\u001b[0m\u001b[1;33m\u001b[0m\u001b[0m\n\u001b[1;32m   1031\u001b[0m \u001b[1;33m\u001b[0m\u001b[0m\n",
      "\u001b[0;32mC:\\Users\\PC\\Anaconda3\\lib\\site-packages\\sklearn\\tree\\tree.py\u001b[0m in \u001b[0;36mfit\u001b[0;34m(self, X, y, sample_weight, check_input, X_idx_sorted)\u001b[0m\n\u001b[1;32m    348\u001b[0m                                            self.min_impurity_split)\n\u001b[1;32m    349\u001b[0m \u001b[1;33m\u001b[0m\u001b[0m\n\u001b[0;32m--> 350\u001b[0;31m         \u001b[0mbuilder\u001b[0m\u001b[1;33m.\u001b[0m\u001b[0mbuild\u001b[0m\u001b[1;33m(\u001b[0m\u001b[0mself\u001b[0m\u001b[1;33m.\u001b[0m\u001b[0mtree_\u001b[0m\u001b[1;33m,\u001b[0m \u001b[0mX\u001b[0m\u001b[1;33m,\u001b[0m \u001b[0my\u001b[0m\u001b[1;33m,\u001b[0m \u001b[0msample_weight\u001b[0m\u001b[1;33m,\u001b[0m \u001b[0mX_idx_sorted\u001b[0m\u001b[1;33m)\u001b[0m\u001b[1;33m\u001b[0m\u001b[0m\n\u001b[0m\u001b[1;32m    351\u001b[0m \u001b[1;33m\u001b[0m\u001b[0m\n\u001b[1;32m    352\u001b[0m         \u001b[1;32mif\u001b[0m \u001b[0mself\u001b[0m\u001b[1;33m.\u001b[0m\u001b[0mn_outputs_\u001b[0m \u001b[1;33m==\u001b[0m \u001b[1;36m1\u001b[0m\u001b[1;33m:\u001b[0m\u001b[1;33m\u001b[0m\u001b[0m\n",
      "\u001b[0;31mKeyboardInterrupt\u001b[0m: "
     ]
    }
   ],
   "source": [
    "grid_rf.fit(X_train2, y_train)"
   ]
  },
  {
   "cell_type": "markdown",
   "metadata": {},
   "source": [
    "To find out which set of parameters performed best, we can use the .best\\_pramas\\_ method"
   ]
  },
  {
   "cell_type": "code",
   "execution_count": null,
   "metadata": {
    "collapsed": true
   },
   "outputs": [],
   "source": [
    "grid_rf.best_params_"
   ]
  },
  {
   "cell_type": "markdown",
   "metadata": {},
   "source": [
    "Next, let's check out the variation in performance."
   ]
  },
  {
   "cell_type": "code",
   "execution_count": null,
   "metadata": {
    "collapsed": true
   },
   "outputs": [],
   "source": [
    "means = grid_rf.cv_results_['mean_test_score']\n",
    "stds = grid_rf.cv_results_['std_test_score']\n",
    "for mean, std, params in zip(means, stds, grid_rf.cv_results_['params']):\n",
    "    print(\"%0.3f (+/-%0.03f) for %r\"\n",
    "          % (mean, std * 2, params))"
   ]
  },
  {
   "cell_type": "markdown",
   "metadata": {},
   "source": []
  }
 ],
 "metadata": {
  "kernelspec": {
   "display_name": "Python 3",
   "language": "python",
   "name": "python3"
  },
  "language_info": {
   "codemirror_mode": {
    "name": "ipython",
    "version": 3
   },
   "file_extension": ".py",
   "mimetype": "text/x-python",
   "name": "python",
   "nbconvert_exporter": "python",
   "pygments_lexer": "ipython3",
   "version": "3.5.3"
  }
 },
 "nbformat": 4,
 "nbformat_minor": 2
}
