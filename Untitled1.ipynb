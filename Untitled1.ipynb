{
 "cells": [
  {
   "cell_type": "code",
   "execution_count": 1,
   "metadata": {},
   "outputs": [
    {
     "name": "stdout",
     "output_type": "stream",
     "text": [
      "Initialized empty Git repository in C:/Users/g13k8050/Moringa/.git/\n"
     ]
    }
   ],
   "source": [
    "!git init"
   ]
  },
  {
   "cell_type": "code",
   "execution_count": 2,
   "metadata": {
    "collapsed": true
   },
   "outputs": [],
   "source": [
    "!git config --global user.name \"Caleb Kibet\"\n",
    "!git config --global user.email \"calebKibet88@gmail.com\""
   ]
  },
  {
   "cell_type": "code",
   "execution_count": 5,
   "metadata": {},
   "outputs": [
    {
     "name": "stdout",
     "output_type": "stream",
     "text": [
      "On branch master\n",
      "\n",
      "Initial commit\n",
      "\n",
      "Untracked files:\n",
      "  (use \"git add <file>...\" to include in what will be committed)\n",
      "\n",
      "\t.gitignore\n",
      "\tUntitled.ipynb\n",
      "\tUntitled1.ipynb\n",
      "\t__MACOSX/\n",
      "\tintro_to_machine_learning/\n",
      "\n",
      "nothing added to commit but untracked files present (use \"git add\" to track)\n"
     ]
    }
   ],
   "source": [
    "!git status"
   ]
  },
  {
   "cell_type": "code",
   "execution_count": 6,
   "metadata": {},
   "outputs": [
    {
     "name": "stderr",
     "output_type": "stream",
     "text": [
      "warning: LF will be replaced by CRLF in intro_to_machine_learning/data/kiva_data_dictionary.csv.\n",
      "The file will have its original line endings in your working directory.\n",
      "warning: LF will be replaced by CRLF in intro_to_machine_learning/data/loans_details.csv.\n",
      "The file will have its original line endings in your working directory.\n",
      "warning: LF will be replaced by CRLF in intro_to_machine_learning/data/loans_full.csv.\n",
      "The file will have its original line endings in your working directory.\n",
      "warning: LF will be replaced by CRLF in intro_to_machine_learning/data/loans_partner_details.csv.\n",
      "The file will have its original line endings in your working directory.\n",
      "warning: LF will be replaced by CRLF in intro_to_machine_learning/introduction_to_python/Intro_to_Pandas.ipynb.\n",
      "The file will have its original line endings in your working directory.\n",
      "warning: LF will be replaced by CRLF in intro_to_machine_learning/introduction_to_python/data.csv.\n",
      "The file will have its original line endings in your working directory.\n",
      "warning: LF will be replaced by CRLF in intro_to_machine_learning/introduction_to_python/intro_to_python.ipynb.\n",
      "The file will have its original line endings in your working directory.\n",
      "warning: LF will be replaced by CRLF in intro_to_machine_learning/module_0_kiva_api/nbs/Retrieving+Kiva+data+from+API..ipynb.\n",
      "The file will have its original line endings in your working directory.\n",
      "warning: LF will be replaced by CRLF in intro_to_machine_learning/module_1_exploratory_analysis/nbs/notebook_1_exploratory_analysis.ipynb.\n",
      "The file will have its original line endings in your working directory.\n"
     ]
    }
   ],
   "source": [
    "!git add intro_to_machine_learning/"
   ]
  },
  {
   "cell_type": "code",
   "execution_count": null,
   "metadata": {
    "collapsed": true
   },
   "outputs": [],
   "source": []
  }
 ],
 "metadata": {
  "kernelspec": {
   "display_name": "Python 3",
   "language": "python",
   "name": "python3"
  },
  "language_info": {
   "codemirror_mode": {
    "name": "ipython",
    "version": 3
   },
   "file_extension": ".py",
   "mimetype": "text/x-python",
   "name": "python",
   "nbconvert_exporter": "python",
   "pygments_lexer": "ipython3",
   "version": "3.5.3"
  }
 },
 "nbformat": 4,
 "nbformat_minor": 2
}
